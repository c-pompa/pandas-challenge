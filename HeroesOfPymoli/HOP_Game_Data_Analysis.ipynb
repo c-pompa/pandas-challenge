{
 "cells": [
  {
   "cell_type": "markdown",
   "metadata": {},
   "source": [
    "<h1 align=center><font size = 5><b>Heroes Of Pymoli Data Analysis</b></font></h1><a name=\"top\"></a>\n",
    "\n",
    "-----"
   ]
  },
  {
   "cell_type": "markdown",
   "metadata": {},
   "source": [
    "## **Introduction**\n",
    "\n",
    "Heroes of Pymoli Data Analysis provides reporting on purchasing information. The information will provide meaningful insights and tools to explore more in the near future. Purchase information is from the games monitization outlets."
   ]
  },
  {
   "cell_type": "markdown",
   "metadata": {},
   "source": [
    "## Observations\n",
    "\n",
    "* Of the 1163 active players, the vast majority are male (84%). There also exists, a smaller, but notable proportion of female players (14%).\n",
    "\n",
    "* Our peak age demographic falls between 20-24 (44.8%) with secondary groups falling between 15-19 (18.60%) and 25-29 (13.4%).  \n",
    "\n",
    "* The peak age demographic, 20-24 (44.8%), also holds the highest purchases per demographic with 365 purchases (46.7%). Although they have the most purchases in the demographic, the average total purchase per person is ranked 3rd (4.32), after 0-10 (4.54) and 35-39 (4.76).\n",
    "\n",
    "* Most popular item is 'Final Critic' with 13 sold. The average price for the item, since the item was sold at different prices, is 4.61. The a total value over is 59.99. \n",
    "\n",
    "* Most profitable item is 'Final Critic' with the same stats above. 'Signed Scalpel' sold 8 units, at 4.35, for a total of 34.80. 'Signed Scalpel' is the 5th most profitable item on the list, but does not show up on the top 5 most popular items list. More items have been sold at the 9 unit mark, but do not generate the same revenue."
   ]
  },
  {
   "cell_type": "markdown",
   "metadata": {},
   "source": [
    "## **Table of Contents**\n",
    "Quickly find the Key Point Indicators used in this project to provide the observations claimed. \n",
    "\n",
    "* [Player Count](#Player-Counts)\n",
    "\n",
    "* [Purchasing Analysis (Total)](#Purchasing-Analysis-Total)\n",
    "\n",
    "* [Gender Demographics](#Gender-Demographic)\n",
    "\n",
    "* [Purchasing Analysis (Gender)](#Purchasing-Analysis-Gender)\n",
    "\n",
    "* [Age Demographics](#Age-Demographic)\n",
    "\n",
    "* [Purchasing Analysis Age](#Purchasing-Analysis-Age)\n",
    "\n",
    "* [Top Spenders](#Top-Spender)\n",
    "\n",
    "* [Most Popular Items](#Most-Popular-Item)\n",
    "\n",
    "* [Most Profitable Items](#Most-Profitable-Item)"
   ]
  },
  {
   "cell_type": "code",
   "execution_count": null,
   "metadata": {},
   "outputs": [],
   "source": []
  },
  {
   "cell_type": "markdown",
   "metadata": {},
   "source": [
    "**Start**: Import required libraries and data. Read and assign as purchase_data."
   ]
  },
  {
   "cell_type": "code",
   "execution_count": 140,
   "metadata": {},
   "outputs": [],
   "source": [
    "# Dependencies and Setup\n",
    "import pandas as pd\n",
    "import numpy as np\n",
    "\n",
    "# File to Load (Remember to Change These)\n",
    "file_to_load = \"Resources/purchase_data.csv\"\n",
    "\n",
    "# Read Purchasing File and store into Pandas data frame\n",
    "purchase_data = pd.read_csv(file_to_load)"
   ]
  },
  {
   "cell_type": "markdown",
   "metadata": {},
   "source": [
    "<a name=\"Player-Counts\"></a>"
   ]
  },
  {
   "cell_type": "markdown",
   "metadata": {},
   "source": [
    "## **Player Count**"
   ]
  },
  {
   "cell_type": "markdown",
   "metadata": {},
   "source": [
    "* Display the total number of players"
   ]
  },
  {
   "cell_type": "code",
   "execution_count": 141,
   "metadata": {},
   "outputs": [
    {
     "data": {
      "text/html": [
       "<div>\n",
       "<style scoped>\n",
       "    .dataframe tbody tr th:only-of-type {\n",
       "        vertical-align: middle;\n",
       "    }\n",
       "\n",
       "    .dataframe tbody tr th {\n",
       "        vertical-align: top;\n",
       "    }\n",
       "\n",
       "    .dataframe thead th {\n",
       "        text-align: right;\n",
       "    }\n",
       "</style>\n",
       "<table border=\"1\" class=\"dataframe\">\n",
       "  <thead>\n",
       "    <tr style=\"text-align: right;\">\n",
       "      <th></th>\n",
       "      <th>Purchase ID</th>\n",
       "      <th>SN</th>\n",
       "      <th>Age</th>\n",
       "      <th>Gender</th>\n",
       "      <th>Item ID</th>\n",
       "      <th>Item Name</th>\n",
       "      <th>Price</th>\n",
       "    </tr>\n",
       "  </thead>\n",
       "  <tbody>\n",
       "    <tr>\n",
       "      <th>0</th>\n",
       "      <td>0</td>\n",
       "      <td>Lisim78</td>\n",
       "      <td>20</td>\n",
       "      <td>Male</td>\n",
       "      <td>108</td>\n",
       "      <td>Extraction, Quickblade Of Trembling Hands</td>\n",
       "      <td>3.53</td>\n",
       "    </tr>\n",
       "    <tr>\n",
       "      <th>1</th>\n",
       "      <td>1</td>\n",
       "      <td>Lisovynya38</td>\n",
       "      <td>40</td>\n",
       "      <td>Male</td>\n",
       "      <td>143</td>\n",
       "      <td>Frenzied Scimitar</td>\n",
       "      <td>1.56</td>\n",
       "    </tr>\n",
       "    <tr>\n",
       "      <th>2</th>\n",
       "      <td>2</td>\n",
       "      <td>Ithergue48</td>\n",
       "      <td>24</td>\n",
       "      <td>Male</td>\n",
       "      <td>92</td>\n",
       "      <td>Final Critic</td>\n",
       "      <td>4.88</td>\n",
       "    </tr>\n",
       "    <tr>\n",
       "      <th>3</th>\n",
       "      <td>3</td>\n",
       "      <td>Chamassasya86</td>\n",
       "      <td>24</td>\n",
       "      <td>Male</td>\n",
       "      <td>100</td>\n",
       "      <td>Blindscythe</td>\n",
       "      <td>3.27</td>\n",
       "    </tr>\n",
       "    <tr>\n",
       "      <th>4</th>\n",
       "      <td>4</td>\n",
       "      <td>Iskosia90</td>\n",
       "      <td>23</td>\n",
       "      <td>Male</td>\n",
       "      <td>131</td>\n",
       "      <td>Fury</td>\n",
       "      <td>1.44</td>\n",
       "    </tr>\n",
       "  </tbody>\n",
       "</table>\n",
       "</div>"
      ],
      "text/plain": [
       "   Purchase ID             SN  Age Gender  Item ID  \\\n",
       "0            0        Lisim78   20   Male      108   \n",
       "1            1    Lisovynya38   40   Male      143   \n",
       "2            2     Ithergue48   24   Male       92   \n",
       "3            3  Chamassasya86   24   Male      100   \n",
       "4            4      Iskosia90   23   Male      131   \n",
       "\n",
       "                                   Item Name  Price  \n",
       "0  Extraction, Quickblade Of Trembling Hands   3.53  \n",
       "1                          Frenzied Scimitar   1.56  \n",
       "2                               Final Critic   4.88  \n",
       "3                                Blindscythe   3.27  \n",
       "4                                       Fury   1.44  "
      ]
     },
     "execution_count": 141,
     "metadata": {},
     "output_type": "execute_result"
    }
   ],
   "source": [
    "# Create dataframe with purchase data inported from csv\n",
    "df_purchase_data = pd.DataFrame(purchase_data)\n",
    "df_purchase_data.head()\n",
    "\n",
    "# Clean data. Length is 780, we're looking for 576 as shown below."
   ]
  },
  {
   "cell_type": "markdown",
   "metadata": {},
   "source": [
    "### Answer"
   ]
  },
  {
   "cell_type": "code",
   "execution_count": 142,
   "metadata": {
    "scrolled": true
   },
   "outputs": [
    {
     "data": {
      "text/html": [
       "<div>\n",
       "<style scoped>\n",
       "    .dataframe tbody tr th:only-of-type {\n",
       "        vertical-align: middle;\n",
       "    }\n",
       "\n",
       "    .dataframe tbody tr th {\n",
       "        vertical-align: top;\n",
       "    }\n",
       "\n",
       "    .dataframe thead th {\n",
       "        text-align: right;\n",
       "    }\n",
       "</style>\n",
       "<table border=\"1\" class=\"dataframe\">\n",
       "  <thead>\n",
       "    <tr style=\"text-align: right;\">\n",
       "      <th></th>\n",
       "      <th>Player Count</th>\n",
       "    </tr>\n",
       "  </thead>\n",
       "  <tbody>\n",
       "    <tr>\n",
       "      <th>0</th>\n",
       "      <td>576</td>\n",
       "    </tr>\n",
       "  </tbody>\n",
       "</table>\n",
       "</div>"
      ],
      "text/plain": [
       "   Player Count\n",
       "0           576"
      ]
     },
     "execution_count": 142,
     "metadata": {},
     "output_type": "execute_result"
    }
   ],
   "source": [
    "# Create column header used in new dataframe\n",
    "column = [\"Player Count\"]\n",
    "\n",
    "# use purchase data, column SN, to filter out duplicate SN and count total\n",
    "# SN = Screen Name. We can discard the duplicates and keep one. We're looking for \n",
    "# actual users by screenname. \n",
    "player_count = df_purchase_data[\"SN\"].value_counts().count()\n",
    "df_pcount = pd.DataFrame({player_count}, columns = column)\n",
    "df_pcount"
   ]
  },
  {
   "cell_type": "markdown",
   "metadata": {},
   "source": [
    "<a name='Purchasing-Analysis-Total'></a>"
   ]
  },
  {
   "cell_type": "markdown",
   "metadata": {},
   "source": [
    "## **Purchasing Analysis (Total)**"
   ]
  },
  {
   "cell_type": "markdown",
   "metadata": {},
   "source": [
    "* Run basic calculations to obtain number of unique items, average price, etc.\n",
    "\n",
    "\n",
    "* Create a summary data frame to hold the results\n",
    "\n",
    "\n",
    "* Give the displayed data cleaner formatting\n",
    "\n",
    "\n",
    "* Display the summary data frame\n"
   ]
  },
  {
   "cell_type": "code",
   "execution_count": 143,
   "metadata": {},
   "outputs": [
    {
     "data": {
      "text/plain": [
       "780"
      ]
     },
     "execution_count": 143,
     "metadata": {},
     "output_type": "execute_result"
    }
   ],
   "source": [
    "# Number of Purchases\n",
    "num_of_purchases = int(df_purchase_data['Item Name'].count())\n",
    "num_of_purchases"
   ]
  },
  {
   "cell_type": "code",
   "execution_count": 144,
   "metadata": {},
   "outputs": [
    {
     "data": {
      "text/plain": [
       "3.0509871794871795"
      ]
     },
     "execution_count": 144,
     "metadata": {},
     "output_type": "execute_result"
    }
   ],
   "source": [
    "# Total Price\n",
    "total_price = df_purchase_data['Price'].sum()\n",
    "# Average Price\n",
    "avg_price = (total_price / num_of_purchases).astype(float)\n",
    "\n",
    "avg_price\n",
    "#add this later when the final DF is made\n",
    "#.map('${:,.2f}'.format)"
   ]
  },
  {
   "cell_type": "code",
   "execution_count": 145,
   "metadata": {},
   "outputs": [
    {
     "data": {
      "text/plain": [
       "179"
      ]
     },
     "execution_count": 145,
     "metadata": {},
     "output_type": "execute_result"
    }
   ],
   "source": [
    "# Unique Item count\n",
    "unique_items = df_purchase_data['Item Name'].nunique()\n",
    "unique_items"
   ]
  },
  {
   "cell_type": "code",
   "execution_count": 146,
   "metadata": {},
   "outputs": [],
   "source": [
    "# Purchasing analysis tool: Summary dataframe\n",
    "purchase_summary = [{'Number of Unique Items': unique_items,\n",
    "                    'Average Price': avg_price,\n",
    "                    'Number of Purchases': num_of_purchases,\n",
    "                    'Total Revenue': total_price}]\n",
    "df_purchase_summary = pd.DataFrame(purchase_summary)"
   ]
  },
  {
   "cell_type": "code",
   "execution_count": 147,
   "metadata": {},
   "outputs": [],
   "source": [
    "#Style Average Purchase Price and Total Purchase Value as currency with two decimals\n",
    "df_purchase_summary[\"Average Price\"] = df_purchase_summary[\"Average Price\"].map(\"${:.2f}\".format)\n",
    "df_purchase_summary[\"Total Revenue\"] = df_purchase_summary[\"Total Revenue\"].map(\"${:.2f}\".format)"
   ]
  },
  {
   "cell_type": "markdown",
   "metadata": {},
   "source": [
    "### Answer"
   ]
  },
  {
   "cell_type": "code",
   "execution_count": 148,
   "metadata": {},
   "outputs": [
    {
     "data": {
      "text/html": [
       "<div>\n",
       "<style scoped>\n",
       "    .dataframe tbody tr th:only-of-type {\n",
       "        vertical-align: middle;\n",
       "    }\n",
       "\n",
       "    .dataframe tbody tr th {\n",
       "        vertical-align: top;\n",
       "    }\n",
       "\n",
       "    .dataframe thead th {\n",
       "        text-align: right;\n",
       "    }\n",
       "</style>\n",
       "<table border=\"1\" class=\"dataframe\">\n",
       "  <thead>\n",
       "    <tr style=\"text-align: right;\">\n",
       "      <th></th>\n",
       "      <th>Number of Unique Items</th>\n",
       "      <th>Average Price</th>\n",
       "      <th>Number of Purchases</th>\n",
       "      <th>Total Revenue</th>\n",
       "    </tr>\n",
       "  </thead>\n",
       "  <tbody>\n",
       "    <tr>\n",
       "      <th>0</th>\n",
       "      <td>179</td>\n",
       "      <td>$3.05</td>\n",
       "      <td>780</td>\n",
       "      <td>$2379.77</td>\n",
       "    </tr>\n",
       "  </tbody>\n",
       "</table>\n",
       "</div>"
      ],
      "text/plain": [
       "   Number of Unique Items Average Price  Number of Purchases Total Revenue\n",
       "0                     179         $3.05                  780      $2379.77"
      ]
     },
     "execution_count": 148,
     "metadata": {},
     "output_type": "execute_result"
    }
   ],
   "source": [
    "df_purchase_summary"
   ]
  },
  {
   "cell_type": "markdown",
   "metadata": {},
   "source": [
    "<a name=\"Gender-Demographic\"></a>"
   ]
  },
  {
   "cell_type": "markdown",
   "metadata": {},
   "source": [
    "## **Gender Demographics**"
   ]
  },
  {
   "cell_type": "markdown",
   "metadata": {},
   "source": [
    "* Percentage and Count of Male Players\n",
    "\n",
    "\n",
    "* Percentage and Count of Female Players\n",
    "\n",
    "\n",
    "* Percentage and Count of Other / Non-Disclosed\n",
    "\n",
    "\n"
   ]
  },
  {
   "cell_type": "code",
   "execution_count": 149,
   "metadata": {},
   "outputs": [
    {
     "data": {
      "text/html": [
       "<div>\n",
       "<style scoped>\n",
       "    .dataframe tbody tr th:only-of-type {\n",
       "        vertical-align: middle;\n",
       "    }\n",
       "\n",
       "    .dataframe tbody tr th {\n",
       "        vertical-align: top;\n",
       "    }\n",
       "\n",
       "    .dataframe thead th {\n",
       "        text-align: right;\n",
       "    }\n",
       "</style>\n",
       "<table border=\"1\" class=\"dataframe\">\n",
       "  <thead>\n",
       "    <tr style=\"text-align: right;\">\n",
       "      <th></th>\n",
       "      <th>Purchase ID</th>\n",
       "      <th>SN</th>\n",
       "      <th>Age</th>\n",
       "      <th>Gender</th>\n",
       "      <th>Item ID</th>\n",
       "      <th>Item Name</th>\n",
       "      <th>Price</th>\n",
       "    </tr>\n",
       "  </thead>\n",
       "  <tbody>\n",
       "    <tr>\n",
       "      <th>0</th>\n",
       "      <td>0</td>\n",
       "      <td>Lisim78</td>\n",
       "      <td>20</td>\n",
       "      <td>Male</td>\n",
       "      <td>108</td>\n",
       "      <td>Extraction, Quickblade Of Trembling Hands</td>\n",
       "      <td>3.53</td>\n",
       "    </tr>\n",
       "    <tr>\n",
       "      <th>1</th>\n",
       "      <td>1</td>\n",
       "      <td>Lisovynya38</td>\n",
       "      <td>40</td>\n",
       "      <td>Male</td>\n",
       "      <td>143</td>\n",
       "      <td>Frenzied Scimitar</td>\n",
       "      <td>1.56</td>\n",
       "    </tr>\n",
       "    <tr>\n",
       "      <th>2</th>\n",
       "      <td>2</td>\n",
       "      <td>Ithergue48</td>\n",
       "      <td>24</td>\n",
       "      <td>Male</td>\n",
       "      <td>92</td>\n",
       "      <td>Final Critic</td>\n",
       "      <td>4.88</td>\n",
       "    </tr>\n",
       "    <tr>\n",
       "      <th>3</th>\n",
       "      <td>3</td>\n",
       "      <td>Chamassasya86</td>\n",
       "      <td>24</td>\n",
       "      <td>Male</td>\n",
       "      <td>100</td>\n",
       "      <td>Blindscythe</td>\n",
       "      <td>3.27</td>\n",
       "    </tr>\n",
       "    <tr>\n",
       "      <th>4</th>\n",
       "      <td>4</td>\n",
       "      <td>Iskosia90</td>\n",
       "      <td>23</td>\n",
       "      <td>Male</td>\n",
       "      <td>131</td>\n",
       "      <td>Fury</td>\n",
       "      <td>1.44</td>\n",
       "    </tr>\n",
       "    <tr>\n",
       "      <th>...</th>\n",
       "      <td>...</td>\n",
       "      <td>...</td>\n",
       "      <td>...</td>\n",
       "      <td>...</td>\n",
       "      <td>...</td>\n",
       "      <td>...</td>\n",
       "      <td>...</td>\n",
       "    </tr>\n",
       "    <tr>\n",
       "      <th>773</th>\n",
       "      <td>773</td>\n",
       "      <td>Hala31</td>\n",
       "      <td>21</td>\n",
       "      <td>Male</td>\n",
       "      <td>19</td>\n",
       "      <td>Pursuit, Cudgel of Necromancy</td>\n",
       "      <td>1.02</td>\n",
       "    </tr>\n",
       "    <tr>\n",
       "      <th>774</th>\n",
       "      <td>774</td>\n",
       "      <td>Jiskjask80</td>\n",
       "      <td>11</td>\n",
       "      <td>Male</td>\n",
       "      <td>92</td>\n",
       "      <td>Final Critic</td>\n",
       "      <td>4.19</td>\n",
       "    </tr>\n",
       "    <tr>\n",
       "      <th>775</th>\n",
       "      <td>775</td>\n",
       "      <td>Aethedru70</td>\n",
       "      <td>21</td>\n",
       "      <td>Female</td>\n",
       "      <td>60</td>\n",
       "      <td>Wolf</td>\n",
       "      <td>3.54</td>\n",
       "    </tr>\n",
       "    <tr>\n",
       "      <th>777</th>\n",
       "      <td>777</td>\n",
       "      <td>Yathecal72</td>\n",
       "      <td>20</td>\n",
       "      <td>Male</td>\n",
       "      <td>67</td>\n",
       "      <td>Celeste, Incarnation of the Corrupted</td>\n",
       "      <td>3.46</td>\n",
       "    </tr>\n",
       "    <tr>\n",
       "      <th>778</th>\n",
       "      <td>778</td>\n",
       "      <td>Sisur91</td>\n",
       "      <td>7</td>\n",
       "      <td>Male</td>\n",
       "      <td>92</td>\n",
       "      <td>Final Critic</td>\n",
       "      <td>4.19</td>\n",
       "    </tr>\n",
       "  </tbody>\n",
       "</table>\n",
       "<p>576 rows × 7 columns</p>\n",
       "</div>"
      ],
      "text/plain": [
       "     Purchase ID             SN  Age  Gender  Item ID  \\\n",
       "0              0        Lisim78   20    Male      108   \n",
       "1              1    Lisovynya38   40    Male      143   \n",
       "2              2     Ithergue48   24    Male       92   \n",
       "3              3  Chamassasya86   24    Male      100   \n",
       "4              4      Iskosia90   23    Male      131   \n",
       "..           ...            ...  ...     ...      ...   \n",
       "773          773         Hala31   21    Male       19   \n",
       "774          774     Jiskjask80   11    Male       92   \n",
       "775          775     Aethedru70   21  Female       60   \n",
       "777          777     Yathecal72   20    Male       67   \n",
       "778          778        Sisur91    7    Male       92   \n",
       "\n",
       "                                     Item Name  Price  \n",
       "0    Extraction, Quickblade Of Trembling Hands   3.53  \n",
       "1                            Frenzied Scimitar   1.56  \n",
       "2                                 Final Critic   4.88  \n",
       "3                                  Blindscythe   3.27  \n",
       "4                                         Fury   1.44  \n",
       "..                                         ...    ...  \n",
       "773              Pursuit, Cudgel of Necromancy   1.02  \n",
       "774                               Final Critic   4.19  \n",
       "775                                       Wolf   3.54  \n",
       "777      Celeste, Incarnation of the Corrupted   3.46  \n",
       "778                               Final Critic   4.19  \n",
       "\n",
       "[576 rows x 7 columns]"
      ]
     },
     "execution_count": 149,
     "metadata": {},
     "output_type": "execute_result"
    }
   ],
   "source": [
    "# DataFrame for purchase data without duplicate SN\n",
    "df2_purchase_data = df_purchase_data.drop_duplicates(subset='SN', keep='first')\n",
    "df2_purchase_data"
   ]
  },
  {
   "cell_type": "code",
   "execution_count": 150,
   "metadata": {
    "scrolled": true
   },
   "outputs": [
    {
     "data": {
      "text/html": [
       "<div>\n",
       "<style scoped>\n",
       "    .dataframe tbody tr th:only-of-type {\n",
       "        vertical-align: middle;\n",
       "    }\n",
       "\n",
       "    .dataframe tbody tr th {\n",
       "        vertical-align: top;\n",
       "    }\n",
       "\n",
       "    .dataframe thead th {\n",
       "        text-align: right;\n",
       "    }\n",
       "</style>\n",
       "<table border=\"1\" class=\"dataframe\">\n",
       "  <thead>\n",
       "    <tr style=\"text-align: right;\">\n",
       "      <th></th>\n",
       "      <th>Gender</th>\n",
       "    </tr>\n",
       "  </thead>\n",
       "  <tbody>\n",
       "    <tr>\n",
       "      <th>Male</th>\n",
       "      <td>484</td>\n",
       "    </tr>\n",
       "    <tr>\n",
       "      <th>Female</th>\n",
       "      <td>81</td>\n",
       "    </tr>\n",
       "    <tr>\n",
       "      <th>Other / Non-Disclosed</th>\n",
       "      <td>11</td>\n",
       "    </tr>\n",
       "  </tbody>\n",
       "</table>\n",
       "</div>"
      ],
      "text/plain": [
       "                       Gender\n",
       "Male                      484\n",
       "Female                     81\n",
       "Other / Non-Disclosed      11"
      ]
     },
     "execution_count": 150,
     "metadata": {},
     "output_type": "execute_result"
    }
   ],
   "source": [
    "# DF for purchase data without duplicate SN, by Gender. \n",
    "gender_count = df2_purchase_data[\"Gender\"].value_counts()\n",
    "gender_count_df = pd.DataFrame(gender_count)\n",
    "gender_count_df"
   ]
  },
  {
   "cell_type": "code",
   "execution_count": 151,
   "metadata": {},
   "outputs": [
    {
     "data": {
      "text/plain": [
       "['84.03%', '14.06%', '1.91%']"
      ]
     },
     "execution_count": 151,
     "metadata": {},
     "output_type": "execute_result"
    }
   ],
   "source": [
    "# Calculate gender percentage values. Assign % format. Generate to list to add to df\n",
    "gender_percent = gender_count[0]/player_count, gender_count[1]/player_count, gender_count[2]/player_count\n",
    "gender_percent = pd.Series([\"{0:.2f}%\".format(val * 100) for val in gender_percent])\n",
    "gender_percent = gender_percent.to_list()\n",
    "gender_percent"
   ]
  },
  {
   "cell_type": "code",
   "execution_count": 152,
   "metadata": {},
   "outputs": [],
   "source": [
    "# Create a new column and add gender_percent data\n",
    "gender_count_df.insert(1, \"Percentage of Players\", gender_percent)"
   ]
  },
  {
   "cell_type": "markdown",
   "metadata": {},
   "source": [
    "### Answer"
   ]
  },
  {
   "cell_type": "code",
   "execution_count": 153,
   "metadata": {
    "scrolled": true
   },
   "outputs": [
    {
     "data": {
      "text/html": [
       "<div>\n",
       "<style scoped>\n",
       "    .dataframe tbody tr th:only-of-type {\n",
       "        vertical-align: middle;\n",
       "    }\n",
       "\n",
       "    .dataframe tbody tr th {\n",
       "        vertical-align: top;\n",
       "    }\n",
       "\n",
       "    .dataframe thead th {\n",
       "        text-align: right;\n",
       "    }\n",
       "</style>\n",
       "<table border=\"1\" class=\"dataframe\">\n",
       "  <thead>\n",
       "    <tr style=\"text-align: right;\">\n",
       "      <th></th>\n",
       "      <th>Gender</th>\n",
       "      <th>Percentage of Players</th>\n",
       "    </tr>\n",
       "  </thead>\n",
       "  <tbody>\n",
       "    <tr>\n",
       "      <th>Male</th>\n",
       "      <td>484</td>\n",
       "      <td>84.03%</td>\n",
       "    </tr>\n",
       "    <tr>\n",
       "      <th>Female</th>\n",
       "      <td>81</td>\n",
       "      <td>14.06%</td>\n",
       "    </tr>\n",
       "    <tr>\n",
       "      <th>Other / Non-Disclosed</th>\n",
       "      <td>11</td>\n",
       "      <td>1.91%</td>\n",
       "    </tr>\n",
       "  </tbody>\n",
       "</table>\n",
       "</div>"
      ],
      "text/plain": [
       "                       Gender Percentage of Players\n",
       "Male                      484                84.03%\n",
       "Female                     81                14.06%\n",
       "Other / Non-Disclosed      11                 1.91%"
      ]
     },
     "execution_count": 153,
     "metadata": {},
     "output_type": "execute_result"
    }
   ],
   "source": [
    "# Finalize Gender Count DataFrame\n",
    "gender_count_df"
   ]
  },
  {
   "cell_type": "markdown",
   "metadata": {},
   "source": [
    "<a name=\"Purchasing-Analysis-Gender\"></a>"
   ]
  },
  {
   "cell_type": "markdown",
   "metadata": {},
   "source": [
    "\n",
    "## **Purchasing Analysis (Gender)**"
   ]
  },
  {
   "cell_type": "markdown",
   "metadata": {},
   "source": [
    "* Run basic calculations to obtain purchase count, avg. purchase price, avg. purchase total per person etc. by gender\n",
    "\n",
    "\n",
    "\n",
    "\n",
    "* Create a summary data frame to hold the results\n",
    "\n",
    "\n",
    "* Give the displayed data cleaner formatting\n",
    "\n",
    "\n",
    "* Display the summary data frame"
   ]
  },
  {
   "cell_type": "code",
   "execution_count": null,
   "metadata": {},
   "outputs": [],
   "source": []
  },
  {
   "cell_type": "code",
   "execution_count": 154,
   "metadata": {},
   "outputs": [],
   "source": [
    "# Make copy of original data. Original data is used because we are filtering through all purchases, repeat customers included.\n",
    "# No duplicates removed in df\n",
    "converted_purchase_data_df = df_purchase_data[[\"Purchase ID\", \"SN\", \"Gender\",\"Price\",]].copy()\n",
    "#converted_purchase_data_df"
   ]
  },
  {
   "cell_type": "code",
   "execution_count": 155,
   "metadata": {},
   "outputs": [
    {
     "data": {
      "text/plain": [
       "<pandas.core.groupby.generic.DataFrameGroupBy object at 0x0000022E0BE22C48>"
      ]
     },
     "execution_count": 155,
     "metadata": {},
     "output_type": "execute_result"
    }
   ],
   "source": [
    "# Grouped Data: Gender as the Index\n",
    "grouped_purchase_gender = converted_purchase_data_df.groupby(['Gender'])\n",
    "grouped_purchase_gender"
   ]
  },
  {
   "cell_type": "code",
   "execution_count": 156,
   "metadata": {},
   "outputs": [
    {
     "data": {
      "text/plain": [
       "Gender\n",
       "Female                   113\n",
       "Male                     652\n",
       "Other / Non-Disclosed     15\n",
       "Name: Price, dtype: int64"
      ]
     },
     "execution_count": 156,
     "metadata": {},
     "output_type": "execute_result"
    }
   ],
   "source": [
    "# Average purchase price by gender - Group\n",
    "grouped_purchase_gender_sum = grouped_purchase_gender['Price'].count()\n",
    "grouped_purchase_gender_sum "
   ]
  },
  {
   "cell_type": "code",
   "execution_count": 157,
   "metadata": {},
   "outputs": [
    {
     "data": {
      "text/plain": [
       "Gender\n",
       "Female                   3.203009\n",
       "Male                     3.017853\n",
       "Other / Non-Disclosed    3.346000\n",
       "Name: Price, dtype: float64"
      ]
     },
     "execution_count": 157,
     "metadata": {},
     "output_type": "execute_result"
    }
   ],
   "source": [
    "# Average Purchase Price by Gender - Group\n",
    "grouped_purchase_gender_mean = grouped_purchase_gender['Price'].mean()\n",
    "grouped_purchase_gender_mean"
   ]
  },
  {
   "cell_type": "code",
   "execution_count": 158,
   "metadata": {},
   "outputs": [
    {
     "data": {
      "text/plain": [
       "Gender\n",
       "Female                    361.94\n",
       "Male                     1967.64\n",
       "Other / Non-Disclosed      50.19\n",
       "Name: Price, dtype: float64"
      ]
     },
     "execution_count": 158,
     "metadata": {},
     "output_type": "execute_result"
    }
   ],
   "source": [
    "# Average purchase price by gender - Group\n",
    "grouped_price_gender_sum = grouped_purchase_gender['Price'].sum()\n",
    "grouped_price_gender_sum"
   ]
  },
  {
   "cell_type": "code",
   "execution_count": 159,
   "metadata": {},
   "outputs": [
    {
     "data": {
      "text/plain": [
       "Female                   4.468395\n",
       "Male                     4.065372\n",
       "Other / Non-Disclosed    4.562727\n",
       "dtype: float64"
      ]
     },
     "execution_count": 159,
     "metadata": {},
     "output_type": "execute_result"
    }
   ],
   "source": [
    "# Average purchase total per person by gender - Group\n",
    "grouped_price_gender_avg = grouped_price_gender_sum / gender_count_df['Gender']\n",
    "grouped_price_gender_avg"
   ]
  },
  {
   "cell_type": "code",
   "execution_count": 160,
   "metadata": {},
   "outputs": [
    {
     "data": {
      "text/html": [
       "<div>\n",
       "<style scoped>\n",
       "    .dataframe tbody tr th:only-of-type {\n",
       "        vertical-align: middle;\n",
       "    }\n",
       "\n",
       "    .dataframe tbody tr th {\n",
       "        vertical-align: top;\n",
       "    }\n",
       "\n",
       "    .dataframe thead th {\n",
       "        text-align: right;\n",
       "    }\n",
       "</style>\n",
       "<table border=\"1\" class=\"dataframe\">\n",
       "  <thead>\n",
       "    <tr style=\"text-align: right;\">\n",
       "      <th></th>\n",
       "      <th>Purchase Count</th>\n",
       "      <th>Average Purchase Price</th>\n",
       "      <th>Total Purchase Value</th>\n",
       "      <th>Avg Total Purchase per Person</th>\n",
       "    </tr>\n",
       "    <tr>\n",
       "      <th>Gender</th>\n",
       "      <th></th>\n",
       "      <th></th>\n",
       "      <th></th>\n",
       "      <th></th>\n",
       "    </tr>\n",
       "  </thead>\n",
       "  <tbody>\n",
       "    <tr>\n",
       "      <th>Female</th>\n",
       "      <td>113</td>\n",
       "      <td>3.203009</td>\n",
       "      <td>361.94</td>\n",
       "      <td>4.468395</td>\n",
       "    </tr>\n",
       "    <tr>\n",
       "      <th>Male</th>\n",
       "      <td>652</td>\n",
       "      <td>3.017853</td>\n",
       "      <td>1967.64</td>\n",
       "      <td>4.065372</td>\n",
       "    </tr>\n",
       "    <tr>\n",
       "      <th>Other / Non-Disclosed</th>\n",
       "      <td>15</td>\n",
       "      <td>3.346000</td>\n",
       "      <td>50.19</td>\n",
       "      <td>4.562727</td>\n",
       "    </tr>\n",
       "  </tbody>\n",
       "</table>\n",
       "</div>"
      ],
      "text/plain": [
       "                       Purchase Count  Average Purchase Price  \\\n",
       "Gender                                                          \n",
       "Female                            113                3.203009   \n",
       "Male                              652                3.017853   \n",
       "Other / Non-Disclosed              15                3.346000   \n",
       "\n",
       "                       Total Purchase Value  Avg Total Purchase per Person  \n",
       "Gender                                                                      \n",
       "Female                               361.94                       4.468395  \n",
       "Male                                1967.64                       4.065372  \n",
       "Other / Non-Disclosed                 50.19                       4.562727  "
      ]
     },
     "execution_count": 160,
     "metadata": {},
     "output_type": "execute_result"
    }
   ],
   "source": [
    "# Create a DataFrame with the 4 grouped results\n",
    "purchase_analysis_gender_df = pd.DataFrame({\"Purchase Count\": grouped_purchase_gender_sum, \n",
    "                                            \"Average Purchase Price\": grouped_purchase_gender_mean, \n",
    "                                            \"Total Purchase Value\": grouped_price_gender_sum,\n",
    "                                            \"Avg Total Purchase per Person\": grouped_price_gender_avg\n",
    "                                           })\n",
    "purchase_analysis_gender_df"
   ]
  },
  {
   "cell_type": "code",
   "execution_count": 161,
   "metadata": {},
   "outputs": [],
   "source": [
    "# Style selected columns expressing currency and 2 decimal spaces\n",
    "purchase_analysis_gender_df = purchase_analysis_gender_df.style.format({\"Average Purchase Price\": \"${:20,.2f}\", \n",
    "                                                          \"Total Purchase Value\": \"${:20,.2f}\", \n",
    "                                                          \"Avg Total Purchase per Person\": \"${:20,.2f}\"\n",
    "                                                         })"
   ]
  },
  {
   "cell_type": "markdown",
   "metadata": {},
   "source": [
    "### Answer"
   ]
  },
  {
   "cell_type": "code",
   "execution_count": 162,
   "metadata": {},
   "outputs": [
    {
     "data": {
      "text/html": [
       "<style  type=\"text/css\" >\n",
       "</style><table id=\"T_82923712_84fe_11ea_a1b8_5cf370710be5\" ><thead>    <tr>        <th class=\"blank level0\" ></th>        <th class=\"col_heading level0 col0\" >Purchase Count</th>        <th class=\"col_heading level0 col1\" >Average Purchase Price</th>        <th class=\"col_heading level0 col2\" >Total Purchase Value</th>        <th class=\"col_heading level0 col3\" >Avg Total Purchase per Person</th>    </tr>    <tr>        <th class=\"index_name level0\" >Gender</th>        <th class=\"blank\" ></th>        <th class=\"blank\" ></th>        <th class=\"blank\" ></th>        <th class=\"blank\" ></th>    </tr></thead><tbody>\n",
       "                <tr>\n",
       "                        <th id=\"T_82923712_84fe_11ea_a1b8_5cf370710be5level0_row0\" class=\"row_heading level0 row0\" >Female</th>\n",
       "                        <td id=\"T_82923712_84fe_11ea_a1b8_5cf370710be5row0_col0\" class=\"data row0 col0\" >113</td>\n",
       "                        <td id=\"T_82923712_84fe_11ea_a1b8_5cf370710be5row0_col1\" class=\"data row0 col1\" >$                3.20</td>\n",
       "                        <td id=\"T_82923712_84fe_11ea_a1b8_5cf370710be5row0_col2\" class=\"data row0 col2\" >$              361.94</td>\n",
       "                        <td id=\"T_82923712_84fe_11ea_a1b8_5cf370710be5row0_col3\" class=\"data row0 col3\" >$                4.47</td>\n",
       "            </tr>\n",
       "            <tr>\n",
       "                        <th id=\"T_82923712_84fe_11ea_a1b8_5cf370710be5level0_row1\" class=\"row_heading level0 row1\" >Male</th>\n",
       "                        <td id=\"T_82923712_84fe_11ea_a1b8_5cf370710be5row1_col0\" class=\"data row1 col0\" >652</td>\n",
       "                        <td id=\"T_82923712_84fe_11ea_a1b8_5cf370710be5row1_col1\" class=\"data row1 col1\" >$                3.02</td>\n",
       "                        <td id=\"T_82923712_84fe_11ea_a1b8_5cf370710be5row1_col2\" class=\"data row1 col2\" >$            1,967.64</td>\n",
       "                        <td id=\"T_82923712_84fe_11ea_a1b8_5cf370710be5row1_col3\" class=\"data row1 col3\" >$                4.07</td>\n",
       "            </tr>\n",
       "            <tr>\n",
       "                        <th id=\"T_82923712_84fe_11ea_a1b8_5cf370710be5level0_row2\" class=\"row_heading level0 row2\" >Other / Non-Disclosed</th>\n",
       "                        <td id=\"T_82923712_84fe_11ea_a1b8_5cf370710be5row2_col0\" class=\"data row2 col0\" >15</td>\n",
       "                        <td id=\"T_82923712_84fe_11ea_a1b8_5cf370710be5row2_col1\" class=\"data row2 col1\" >$                3.35</td>\n",
       "                        <td id=\"T_82923712_84fe_11ea_a1b8_5cf370710be5row2_col2\" class=\"data row2 col2\" >$               50.19</td>\n",
       "                        <td id=\"T_82923712_84fe_11ea_a1b8_5cf370710be5row2_col3\" class=\"data row2 col3\" >$                4.56</td>\n",
       "            </tr>\n",
       "    </tbody></table>"
      ],
      "text/plain": [
       "<pandas.io.formats.style.Styler at 0x22e0bdc2748>"
      ]
     },
     "execution_count": 162,
     "metadata": {},
     "output_type": "execute_result"
    }
   ],
   "source": [
    "purchase_analysis_gender_df"
   ]
  },
  {
   "cell_type": "markdown",
   "metadata": {},
   "source": [
    "<a name=\"Age-Demographic\"></a>"
   ]
  },
  {
   "cell_type": "markdown",
   "metadata": {},
   "source": [
    "## **Age Demographics**"
   ]
  },
  {
   "cell_type": "markdown",
   "metadata": {},
   "source": [
    "* Establish bins for ages\n",
    "\n",
    "\n",
    "* Categorize the existing players using the age bins. Hint: use pd.cut()\n",
    "\n",
    "\n",
    "* Calculate the numbers and percentages by age group\n",
    "\n",
    "\n",
    "* Create a summary data frame to hold the results\n",
    "\n",
    "\n",
    "* Round the percentage column to two decimal points\n",
    "\n",
    "\n",
    "* Display Age Demographics Table\n"
   ]
  },
  {
   "cell_type": "code",
   "execution_count": 163,
   "metadata": {},
   "outputs": [
    {
     "data": {
      "text/plain": [
       "0      20\n",
       "1      40\n",
       "2      24\n",
       "3      24\n",
       "4      23\n",
       "       ..\n",
       "773    21\n",
       "774    11\n",
       "775    21\n",
       "777    20\n",
       "778     7\n",
       "Name: Age, Length: 576, dtype: int64"
      ]
     },
     "execution_count": 163,
     "metadata": {},
     "output_type": "execute_result"
    }
   ],
   "source": [
    "converted_age_demo_df2 = df2_purchase_data.copy()\n",
    "converted_age_demo_df2[\"Age\"]"
   ]
  },
  {
   "cell_type": "code",
   "execution_count": 164,
   "metadata": {},
   "outputs": [],
   "source": [
    "# Establish bins for ages\n",
    "age_bins = [0, 9, 14, 19, 24, 29, 34, 39, 50]\n",
    "age_bin_labels = [\"<10\", \"10-14\", \"15-19\", \"20-24\", \"25-29\", \"30-34\", \"35-39\", \"40+\"]"
   ]
  },
  {
   "cell_type": "code",
   "execution_count": 165,
   "metadata": {},
   "outputs": [
    {
     "data": {
      "text/html": [
       "<div>\n",
       "<style scoped>\n",
       "    .dataframe tbody tr th:only-of-type {\n",
       "        vertical-align: middle;\n",
       "    }\n",
       "\n",
       "    .dataframe tbody tr th {\n",
       "        vertical-align: top;\n",
       "    }\n",
       "\n",
       "    .dataframe thead th {\n",
       "        text-align: right;\n",
       "    }\n",
       "</style>\n",
       "<table border=\"1\" class=\"dataframe\">\n",
       "  <thead>\n",
       "    <tr style=\"text-align: right;\">\n",
       "      <th></th>\n",
       "      <th>Purchase ID</th>\n",
       "      <th>SN</th>\n",
       "      <th>Age</th>\n",
       "      <th>Gender</th>\n",
       "      <th>Item ID</th>\n",
       "      <th>Item Name</th>\n",
       "      <th>Price</th>\n",
       "      <th>Age Ranges</th>\n",
       "    </tr>\n",
       "  </thead>\n",
       "  <tbody>\n",
       "    <tr>\n",
       "      <th>0</th>\n",
       "      <td>0</td>\n",
       "      <td>Lisim78</td>\n",
       "      <td>20</td>\n",
       "      <td>Male</td>\n",
       "      <td>108</td>\n",
       "      <td>Extraction, Quickblade Of Trembling Hands</td>\n",
       "      <td>3.53</td>\n",
       "      <td>20-24</td>\n",
       "    </tr>\n",
       "    <tr>\n",
       "      <th>1</th>\n",
       "      <td>1</td>\n",
       "      <td>Lisovynya38</td>\n",
       "      <td>40</td>\n",
       "      <td>Male</td>\n",
       "      <td>143</td>\n",
       "      <td>Frenzied Scimitar</td>\n",
       "      <td>1.56</td>\n",
       "      <td>40+</td>\n",
       "    </tr>\n",
       "    <tr>\n",
       "      <th>2</th>\n",
       "      <td>2</td>\n",
       "      <td>Ithergue48</td>\n",
       "      <td>24</td>\n",
       "      <td>Male</td>\n",
       "      <td>92</td>\n",
       "      <td>Final Critic</td>\n",
       "      <td>4.88</td>\n",
       "      <td>20-24</td>\n",
       "    </tr>\n",
       "    <tr>\n",
       "      <th>3</th>\n",
       "      <td>3</td>\n",
       "      <td>Chamassasya86</td>\n",
       "      <td>24</td>\n",
       "      <td>Male</td>\n",
       "      <td>100</td>\n",
       "      <td>Blindscythe</td>\n",
       "      <td>3.27</td>\n",
       "      <td>20-24</td>\n",
       "    </tr>\n",
       "    <tr>\n",
       "      <th>4</th>\n",
       "      <td>4</td>\n",
       "      <td>Iskosia90</td>\n",
       "      <td>23</td>\n",
       "      <td>Male</td>\n",
       "      <td>131</td>\n",
       "      <td>Fury</td>\n",
       "      <td>1.44</td>\n",
       "      <td>20-24</td>\n",
       "    </tr>\n",
       "    <tr>\n",
       "      <th>...</th>\n",
       "      <td>...</td>\n",
       "      <td>...</td>\n",
       "      <td>...</td>\n",
       "      <td>...</td>\n",
       "      <td>...</td>\n",
       "      <td>...</td>\n",
       "      <td>...</td>\n",
       "      <td>...</td>\n",
       "    </tr>\n",
       "    <tr>\n",
       "      <th>773</th>\n",
       "      <td>773</td>\n",
       "      <td>Hala31</td>\n",
       "      <td>21</td>\n",
       "      <td>Male</td>\n",
       "      <td>19</td>\n",
       "      <td>Pursuit, Cudgel of Necromancy</td>\n",
       "      <td>1.02</td>\n",
       "      <td>20-24</td>\n",
       "    </tr>\n",
       "    <tr>\n",
       "      <th>774</th>\n",
       "      <td>774</td>\n",
       "      <td>Jiskjask80</td>\n",
       "      <td>11</td>\n",
       "      <td>Male</td>\n",
       "      <td>92</td>\n",
       "      <td>Final Critic</td>\n",
       "      <td>4.19</td>\n",
       "      <td>10-14</td>\n",
       "    </tr>\n",
       "    <tr>\n",
       "      <th>775</th>\n",
       "      <td>775</td>\n",
       "      <td>Aethedru70</td>\n",
       "      <td>21</td>\n",
       "      <td>Female</td>\n",
       "      <td>60</td>\n",
       "      <td>Wolf</td>\n",
       "      <td>3.54</td>\n",
       "      <td>20-24</td>\n",
       "    </tr>\n",
       "    <tr>\n",
       "      <th>777</th>\n",
       "      <td>777</td>\n",
       "      <td>Yathecal72</td>\n",
       "      <td>20</td>\n",
       "      <td>Male</td>\n",
       "      <td>67</td>\n",
       "      <td>Celeste, Incarnation of the Corrupted</td>\n",
       "      <td>3.46</td>\n",
       "      <td>20-24</td>\n",
       "    </tr>\n",
       "    <tr>\n",
       "      <th>778</th>\n",
       "      <td>778</td>\n",
       "      <td>Sisur91</td>\n",
       "      <td>7</td>\n",
       "      <td>Male</td>\n",
       "      <td>92</td>\n",
       "      <td>Final Critic</td>\n",
       "      <td>4.19</td>\n",
       "      <td>&lt;10</td>\n",
       "    </tr>\n",
       "  </tbody>\n",
       "</table>\n",
       "<p>576 rows × 8 columns</p>\n",
       "</div>"
      ],
      "text/plain": [
       "     Purchase ID             SN  Age  Gender  Item ID  \\\n",
       "0              0        Lisim78   20    Male      108   \n",
       "1              1    Lisovynya38   40    Male      143   \n",
       "2              2     Ithergue48   24    Male       92   \n",
       "3              3  Chamassasya86   24    Male      100   \n",
       "4              4      Iskosia90   23    Male      131   \n",
       "..           ...            ...  ...     ...      ...   \n",
       "773          773         Hala31   21    Male       19   \n",
       "774          774     Jiskjask80   11    Male       92   \n",
       "775          775     Aethedru70   21  Female       60   \n",
       "777          777     Yathecal72   20    Male       67   \n",
       "778          778        Sisur91    7    Male       92   \n",
       "\n",
       "                                     Item Name  Price Age Ranges  \n",
       "0    Extraction, Quickblade Of Trembling Hands   3.53      20-24  \n",
       "1                            Frenzied Scimitar   1.56        40+  \n",
       "2                                 Final Critic   4.88      20-24  \n",
       "3                                  Blindscythe   3.27      20-24  \n",
       "4                                         Fury   1.44      20-24  \n",
       "..                                         ...    ...        ...  \n",
       "773              Pursuit, Cudgel of Necromancy   1.02      20-24  \n",
       "774                               Final Critic   4.19      10-14  \n",
       "775                                       Wolf   3.54      20-24  \n",
       "777      Celeste, Incarnation of the Corrupted   3.46      20-24  \n",
       "778                               Final Critic   4.19        <10  \n",
       "\n",
       "[576 rows x 8 columns]"
      ]
     },
     "execution_count": 165,
     "metadata": {},
     "output_type": "execute_result"
    }
   ],
   "source": [
    "# Categorize existing players using the age bins (with pd.cut)\n",
    "converted_age_demo_df2['Age Ranges'] = pd.cut(\n",
    "        x = converted_age_demo_df2[\"Age\"],\n",
    "        bins = age_bins,\n",
    "        labels = age_bin_labels)\n",
    "converted_age_demo_df2"
   ]
  },
  {
   "cell_type": "code",
   "execution_count": 166,
   "metadata": {},
   "outputs": [],
   "source": [
    "# Count amount of Users by SN\n",
    "player_count = converted_age_demo_df2[\"SN\"].count()"
   ]
  },
  {
   "cell_type": "code",
   "execution_count": 167,
   "metadata": {},
   "outputs": [
    {
     "data": {
      "text/plain": [
       "Age Ranges\n",
       "<10       17\n",
       "10-14     22\n",
       "15-19    107\n",
       "20-24    258\n",
       "25-29     77\n",
       "30-34     52\n",
       "35-39     31\n",
       "40+       12\n",
       "Name: Age, dtype: int64"
      ]
     },
     "execution_count": 167,
     "metadata": {},
     "output_type": "execute_result"
    }
   ],
   "source": [
    "# Calculate the numbers and percentages by age group\n",
    "# Create a GroupBy object based upon \"Age Demo\"\n",
    "age_group = converted_age_demo_df2.groupby(by=\"Age Ranges\")\n",
    "\n",
    "# Count Age into bins\n",
    "age_group_sum = age_group[\"Age\"].count()\n",
    "age_group_sum"
   ]
  },
  {
   "cell_type": "code",
   "execution_count": 168,
   "metadata": {},
   "outputs": [
    {
     "data": {
      "text/plain": [
       "Age Ranges\n",
       "<10       2.951389\n",
       "10-14     3.819444\n",
       "15-19    18.576389\n",
       "20-24    44.791667\n",
       "25-29    13.368056\n",
       "30-34     9.027778\n",
       "35-39     5.381944\n",
       "40+       2.083333\n",
       "Name: Age, dtype: float64"
      ]
     },
     "execution_count": 168,
     "metadata": {},
     "output_type": "execute_result"
    }
   ],
   "source": [
    "# Get percentage of age group to bins\n",
    "age_group_avg = (age_group_sum / player_count) * 100\n",
    "age_group_avg"
   ]
  },
  {
   "cell_type": "code",
   "execution_count": 169,
   "metadata": {},
   "outputs": [
    {
     "data": {
      "text/html": [
       "<div>\n",
       "<style scoped>\n",
       "    .dataframe tbody tr th:only-of-type {\n",
       "        vertical-align: middle;\n",
       "    }\n",
       "\n",
       "    .dataframe tbody tr th {\n",
       "        vertical-align: top;\n",
       "    }\n",
       "\n",
       "    .dataframe thead th {\n",
       "        text-align: right;\n",
       "    }\n",
       "</style>\n",
       "<table border=\"1\" class=\"dataframe\">\n",
       "  <thead>\n",
       "    <tr style=\"text-align: right;\">\n",
       "      <th></th>\n",
       "      <th>Total Count</th>\n",
       "      <th>Percentage of Players</th>\n",
       "    </tr>\n",
       "    <tr>\n",
       "      <th>Age Ranges</th>\n",
       "      <th></th>\n",
       "      <th></th>\n",
       "    </tr>\n",
       "  </thead>\n",
       "  <tbody>\n",
       "    <tr>\n",
       "      <th>&lt;10</th>\n",
       "      <td>17</td>\n",
       "      <td>2.951389</td>\n",
       "    </tr>\n",
       "    <tr>\n",
       "      <th>10-14</th>\n",
       "      <td>22</td>\n",
       "      <td>3.819444</td>\n",
       "    </tr>\n",
       "    <tr>\n",
       "      <th>15-19</th>\n",
       "      <td>107</td>\n",
       "      <td>18.576389</td>\n",
       "    </tr>\n",
       "    <tr>\n",
       "      <th>20-24</th>\n",
       "      <td>258</td>\n",
       "      <td>44.791667</td>\n",
       "    </tr>\n",
       "    <tr>\n",
       "      <th>25-29</th>\n",
       "      <td>77</td>\n",
       "      <td>13.368056</td>\n",
       "    </tr>\n",
       "    <tr>\n",
       "      <th>30-34</th>\n",
       "      <td>52</td>\n",
       "      <td>9.027778</td>\n",
       "    </tr>\n",
       "    <tr>\n",
       "      <th>35-39</th>\n",
       "      <td>31</td>\n",
       "      <td>5.381944</td>\n",
       "    </tr>\n",
       "    <tr>\n",
       "      <th>40+</th>\n",
       "      <td>12</td>\n",
       "      <td>2.083333</td>\n",
       "    </tr>\n",
       "  </tbody>\n",
       "</table>\n",
       "</div>"
      ],
      "text/plain": [
       "            Total Count  Percentage of Players\n",
       "Age Ranges                                    \n",
       "<10                  17               2.951389\n",
       "10-14                22               3.819444\n",
       "15-19               107              18.576389\n",
       "20-24               258              44.791667\n",
       "25-29                77              13.368056\n",
       "30-34                52               9.027778\n",
       "35-39                31               5.381944\n",
       "40+                  12               2.083333"
      ]
     },
     "execution_count": 169,
     "metadata": {},
     "output_type": "execute_result"
    }
   ],
   "source": [
    "# Create a summary data of binned age group to hold the results\n",
    "age_demo_df = pd.DataFrame({\"Total Count\": age_group_sum, \n",
    "                                            \"Percentage of Players\": age_group_avg\n",
    "                                           })\n",
    "age_demo_df"
   ]
  },
  {
   "cell_type": "code",
   "execution_count": 170,
   "metadata": {},
   "outputs": [],
   "source": [
    "# Optional: round the percentage column to two decimal points\n",
    "age_demo_df = age_demo_df.style.format({\"Percentage of Players\": \"{:20,.2f}%\"\n",
    "                                                         })"
   ]
  },
  {
   "cell_type": "markdown",
   "metadata": {},
   "source": [
    "### Answer"
   ]
  },
  {
   "cell_type": "code",
   "execution_count": 171,
   "metadata": {},
   "outputs": [
    {
     "data": {
      "text/html": [
       "<style  type=\"text/css\" >\n",
       "</style><table id=\"T_829c1bae_84fe_11ea_81c7_5cf370710be5\" ><thead>    <tr>        <th class=\"blank level0\" ></th>        <th class=\"col_heading level0 col0\" >Total Count</th>        <th class=\"col_heading level0 col1\" >Percentage of Players</th>    </tr>    <tr>        <th class=\"index_name level0\" >Age Ranges</th>        <th class=\"blank\" ></th>        <th class=\"blank\" ></th>    </tr></thead><tbody>\n",
       "                <tr>\n",
       "                        <th id=\"T_829c1bae_84fe_11ea_81c7_5cf370710be5level0_row0\" class=\"row_heading level0 row0\" ><10</th>\n",
       "                        <td id=\"T_829c1bae_84fe_11ea_81c7_5cf370710be5row0_col0\" class=\"data row0 col0\" >17</td>\n",
       "                        <td id=\"T_829c1bae_84fe_11ea_81c7_5cf370710be5row0_col1\" class=\"data row0 col1\" >                2.95%</td>\n",
       "            </tr>\n",
       "            <tr>\n",
       "                        <th id=\"T_829c1bae_84fe_11ea_81c7_5cf370710be5level0_row1\" class=\"row_heading level0 row1\" >10-14</th>\n",
       "                        <td id=\"T_829c1bae_84fe_11ea_81c7_5cf370710be5row1_col0\" class=\"data row1 col0\" >22</td>\n",
       "                        <td id=\"T_829c1bae_84fe_11ea_81c7_5cf370710be5row1_col1\" class=\"data row1 col1\" >                3.82%</td>\n",
       "            </tr>\n",
       "            <tr>\n",
       "                        <th id=\"T_829c1bae_84fe_11ea_81c7_5cf370710be5level0_row2\" class=\"row_heading level0 row2\" >15-19</th>\n",
       "                        <td id=\"T_829c1bae_84fe_11ea_81c7_5cf370710be5row2_col0\" class=\"data row2 col0\" >107</td>\n",
       "                        <td id=\"T_829c1bae_84fe_11ea_81c7_5cf370710be5row2_col1\" class=\"data row2 col1\" >               18.58%</td>\n",
       "            </tr>\n",
       "            <tr>\n",
       "                        <th id=\"T_829c1bae_84fe_11ea_81c7_5cf370710be5level0_row3\" class=\"row_heading level0 row3\" >20-24</th>\n",
       "                        <td id=\"T_829c1bae_84fe_11ea_81c7_5cf370710be5row3_col0\" class=\"data row3 col0\" >258</td>\n",
       "                        <td id=\"T_829c1bae_84fe_11ea_81c7_5cf370710be5row3_col1\" class=\"data row3 col1\" >               44.79%</td>\n",
       "            </tr>\n",
       "            <tr>\n",
       "                        <th id=\"T_829c1bae_84fe_11ea_81c7_5cf370710be5level0_row4\" class=\"row_heading level0 row4\" >25-29</th>\n",
       "                        <td id=\"T_829c1bae_84fe_11ea_81c7_5cf370710be5row4_col0\" class=\"data row4 col0\" >77</td>\n",
       "                        <td id=\"T_829c1bae_84fe_11ea_81c7_5cf370710be5row4_col1\" class=\"data row4 col1\" >               13.37%</td>\n",
       "            </tr>\n",
       "            <tr>\n",
       "                        <th id=\"T_829c1bae_84fe_11ea_81c7_5cf370710be5level0_row5\" class=\"row_heading level0 row5\" >30-34</th>\n",
       "                        <td id=\"T_829c1bae_84fe_11ea_81c7_5cf370710be5row5_col0\" class=\"data row5 col0\" >52</td>\n",
       "                        <td id=\"T_829c1bae_84fe_11ea_81c7_5cf370710be5row5_col1\" class=\"data row5 col1\" >                9.03%</td>\n",
       "            </tr>\n",
       "            <tr>\n",
       "                        <th id=\"T_829c1bae_84fe_11ea_81c7_5cf370710be5level0_row6\" class=\"row_heading level0 row6\" >35-39</th>\n",
       "                        <td id=\"T_829c1bae_84fe_11ea_81c7_5cf370710be5row6_col0\" class=\"data row6 col0\" >31</td>\n",
       "                        <td id=\"T_829c1bae_84fe_11ea_81c7_5cf370710be5row6_col1\" class=\"data row6 col1\" >                5.38%</td>\n",
       "            </tr>\n",
       "            <tr>\n",
       "                        <th id=\"T_829c1bae_84fe_11ea_81c7_5cf370710be5level0_row7\" class=\"row_heading level0 row7\" >40+</th>\n",
       "                        <td id=\"T_829c1bae_84fe_11ea_81c7_5cf370710be5row7_col0\" class=\"data row7 col0\" >12</td>\n",
       "                        <td id=\"T_829c1bae_84fe_11ea_81c7_5cf370710be5row7_col1\" class=\"data row7 col1\" >                2.08%</td>\n",
       "            </tr>\n",
       "    </tbody></table>"
      ],
      "text/plain": [
       "<pandas.io.formats.style.Styler at 0x22e0be52f88>"
      ]
     },
     "execution_count": 171,
     "metadata": {},
     "output_type": "execute_result"
    }
   ],
   "source": [
    "# Display Age Demographics Table\n",
    "age_demo_df"
   ]
  },
  {
   "cell_type": "markdown",
   "metadata": {},
   "source": [
    "<a name=\"Purchasing-Analysis-Age\"></a>"
   ]
  },
  {
   "cell_type": "markdown",
   "metadata": {},
   "source": [
    "## **Purchasing Analysis (Age)**"
   ]
  },
  {
   "cell_type": "markdown",
   "metadata": {},
   "source": [
    "* Bin the purchase_data data frame by age\n",
    "\n",
    "\n",
    "* Run basic calculations to obtain purchase count, avg. purchase price, avg. purchase total per person etc. in the table below\n",
    "\n",
    "\n",
    "* Create a summary data frame to hold the results\n",
    "\n",
    "\n",
    "* Give the displayed data cleaner formatting\n",
    "\n",
    "\n",
    "* Display the summary data frame"
   ]
  },
  {
   "cell_type": "code",
   "execution_count": 172,
   "metadata": {},
   "outputs": [],
   "source": [
    "# Make copy of df before moving on\n",
    "converted_purchase_data_df2 = df_purchase_data.copy()"
   ]
  },
  {
   "cell_type": "code",
   "execution_count": 173,
   "metadata": {},
   "outputs": [],
   "source": [
    "# Bin the purchase_data data frame by age\n",
    "age_bins = [0, 9, 14, 19, 24, 29, 34, 39, 50]\n",
    "age_bin_labels = [\"<10\", \"10-14\", \"15-19\", \"20-24\", \"25-29\", \"30-34\", \"35-39\", \"40+\"]"
   ]
  },
  {
   "cell_type": "code",
   "execution_count": 174,
   "metadata": {},
   "outputs": [
    {
     "data": {
      "text/html": [
       "<div>\n",
       "<style scoped>\n",
       "    .dataframe tbody tr th:only-of-type {\n",
       "        vertical-align: middle;\n",
       "    }\n",
       "\n",
       "    .dataframe tbody tr th {\n",
       "        vertical-align: top;\n",
       "    }\n",
       "\n",
       "    .dataframe thead th {\n",
       "        text-align: right;\n",
       "    }\n",
       "</style>\n",
       "<table border=\"1\" class=\"dataframe\">\n",
       "  <thead>\n",
       "    <tr style=\"text-align: right;\">\n",
       "      <th></th>\n",
       "      <th>Purchase ID</th>\n",
       "      <th>SN</th>\n",
       "      <th>Age</th>\n",
       "      <th>Gender</th>\n",
       "      <th>Item ID</th>\n",
       "      <th>Item Name</th>\n",
       "      <th>Price</th>\n",
       "      <th>Age Ranges</th>\n",
       "    </tr>\n",
       "  </thead>\n",
       "  <tbody>\n",
       "    <tr>\n",
       "      <th>0</th>\n",
       "      <td>0</td>\n",
       "      <td>Lisim78</td>\n",
       "      <td>20</td>\n",
       "      <td>Male</td>\n",
       "      <td>108</td>\n",
       "      <td>Extraction, Quickblade Of Trembling Hands</td>\n",
       "      <td>3.53</td>\n",
       "      <td>20-24</td>\n",
       "    </tr>\n",
       "    <tr>\n",
       "      <th>1</th>\n",
       "      <td>1</td>\n",
       "      <td>Lisovynya38</td>\n",
       "      <td>40</td>\n",
       "      <td>Male</td>\n",
       "      <td>143</td>\n",
       "      <td>Frenzied Scimitar</td>\n",
       "      <td>1.56</td>\n",
       "      <td>40+</td>\n",
       "    </tr>\n",
       "    <tr>\n",
       "      <th>2</th>\n",
       "      <td>2</td>\n",
       "      <td>Ithergue48</td>\n",
       "      <td>24</td>\n",
       "      <td>Male</td>\n",
       "      <td>92</td>\n",
       "      <td>Final Critic</td>\n",
       "      <td>4.88</td>\n",
       "      <td>20-24</td>\n",
       "    </tr>\n",
       "    <tr>\n",
       "      <th>3</th>\n",
       "      <td>3</td>\n",
       "      <td>Chamassasya86</td>\n",
       "      <td>24</td>\n",
       "      <td>Male</td>\n",
       "      <td>100</td>\n",
       "      <td>Blindscythe</td>\n",
       "      <td>3.27</td>\n",
       "      <td>20-24</td>\n",
       "    </tr>\n",
       "    <tr>\n",
       "      <th>4</th>\n",
       "      <td>4</td>\n",
       "      <td>Iskosia90</td>\n",
       "      <td>23</td>\n",
       "      <td>Male</td>\n",
       "      <td>131</td>\n",
       "      <td>Fury</td>\n",
       "      <td>1.44</td>\n",
       "      <td>20-24</td>\n",
       "    </tr>\n",
       "    <tr>\n",
       "      <th>...</th>\n",
       "      <td>...</td>\n",
       "      <td>...</td>\n",
       "      <td>...</td>\n",
       "      <td>...</td>\n",
       "      <td>...</td>\n",
       "      <td>...</td>\n",
       "      <td>...</td>\n",
       "      <td>...</td>\n",
       "    </tr>\n",
       "    <tr>\n",
       "      <th>775</th>\n",
       "      <td>775</td>\n",
       "      <td>Aethedru70</td>\n",
       "      <td>21</td>\n",
       "      <td>Female</td>\n",
       "      <td>60</td>\n",
       "      <td>Wolf</td>\n",
       "      <td>3.54</td>\n",
       "      <td>20-24</td>\n",
       "    </tr>\n",
       "    <tr>\n",
       "      <th>776</th>\n",
       "      <td>776</td>\n",
       "      <td>Iral74</td>\n",
       "      <td>21</td>\n",
       "      <td>Male</td>\n",
       "      <td>164</td>\n",
       "      <td>Exiled Doomblade</td>\n",
       "      <td>1.63</td>\n",
       "      <td>20-24</td>\n",
       "    </tr>\n",
       "    <tr>\n",
       "      <th>777</th>\n",
       "      <td>777</td>\n",
       "      <td>Yathecal72</td>\n",
       "      <td>20</td>\n",
       "      <td>Male</td>\n",
       "      <td>67</td>\n",
       "      <td>Celeste, Incarnation of the Corrupted</td>\n",
       "      <td>3.46</td>\n",
       "      <td>20-24</td>\n",
       "    </tr>\n",
       "    <tr>\n",
       "      <th>778</th>\n",
       "      <td>778</td>\n",
       "      <td>Sisur91</td>\n",
       "      <td>7</td>\n",
       "      <td>Male</td>\n",
       "      <td>92</td>\n",
       "      <td>Final Critic</td>\n",
       "      <td>4.19</td>\n",
       "      <td>&lt;10</td>\n",
       "    </tr>\n",
       "    <tr>\n",
       "      <th>779</th>\n",
       "      <td>779</td>\n",
       "      <td>Ennrian78</td>\n",
       "      <td>24</td>\n",
       "      <td>Male</td>\n",
       "      <td>50</td>\n",
       "      <td>Dawn</td>\n",
       "      <td>4.60</td>\n",
       "      <td>20-24</td>\n",
       "    </tr>\n",
       "  </tbody>\n",
       "</table>\n",
       "<p>780 rows × 8 columns</p>\n",
       "</div>"
      ],
      "text/plain": [
       "     Purchase ID             SN  Age  Gender  Item ID  \\\n",
       "0              0        Lisim78   20    Male      108   \n",
       "1              1    Lisovynya38   40    Male      143   \n",
       "2              2     Ithergue48   24    Male       92   \n",
       "3              3  Chamassasya86   24    Male      100   \n",
       "4              4      Iskosia90   23    Male      131   \n",
       "..           ...            ...  ...     ...      ...   \n",
       "775          775     Aethedru70   21  Female       60   \n",
       "776          776         Iral74   21    Male      164   \n",
       "777          777     Yathecal72   20    Male       67   \n",
       "778          778        Sisur91    7    Male       92   \n",
       "779          779      Ennrian78   24    Male       50   \n",
       "\n",
       "                                     Item Name  Price Age Ranges  \n",
       "0    Extraction, Quickblade Of Trembling Hands   3.53      20-24  \n",
       "1                            Frenzied Scimitar   1.56        40+  \n",
       "2                                 Final Critic   4.88      20-24  \n",
       "3                                  Blindscythe   3.27      20-24  \n",
       "4                                         Fury   1.44      20-24  \n",
       "..                                         ...    ...        ...  \n",
       "775                                       Wolf   3.54      20-24  \n",
       "776                           Exiled Doomblade   1.63      20-24  \n",
       "777      Celeste, Incarnation of the Corrupted   3.46      20-24  \n",
       "778                               Final Critic   4.19        <10  \n",
       "779                                       Dawn   4.60      20-24  \n",
       "\n",
       "[780 rows x 8 columns]"
      ]
     },
     "execution_count": 174,
     "metadata": {},
     "output_type": "execute_result"
    }
   ],
   "source": [
    "# Cut bins into current df before grouping\n",
    "converted_purchase_data_df2['Age Ranges'] = pd.cut(\n",
    "        x = converted_purchase_data_df2[\"Age\"],\n",
    "        bins = age_bins,\n",
    "        labels = age_bin_labels)\n",
    "converted_purchase_data_df2"
   ]
  },
  {
   "cell_type": "code",
   "execution_count": 175,
   "metadata": {},
   "outputs": [
    {
     "data": {
      "text/plain": [
       "<pandas.core.groupby.generic.DataFrameGroupBy object at 0x0000022E0BE344C8>"
      ]
     },
     "execution_count": 175,
     "metadata": {},
     "output_type": "execute_result"
    }
   ],
   "source": [
    "grouped_purchase_age = converted_purchase_data_df2.groupby(['Age Ranges'])\n",
    "grouped_purchase_age"
   ]
  },
  {
   "cell_type": "code",
   "execution_count": 176,
   "metadata": {},
   "outputs": [
    {
     "data": {
      "text/plain": [
       "Age Ranges\n",
       "<10       23\n",
       "10-14     28\n",
       "15-19    136\n",
       "20-24    365\n",
       "25-29    101\n",
       "30-34     73\n",
       "35-39     41\n",
       "40+       13\n",
       "Name: Purchase ID, dtype: int64"
      ]
     },
     "execution_count": 176,
     "metadata": {},
     "output_type": "execute_result"
    }
   ],
   "source": [
    "# purchase count / age\n",
    "purchase_count_age = grouped_purchase_age['Purchase ID'].count()\n",
    "purchase_count_age"
   ]
  },
  {
   "cell_type": "code",
   "execution_count": 177,
   "metadata": {},
   "outputs": [
    {
     "data": {
      "text/plain": [
       "Age Ranges\n",
       "<10      3.353478\n",
       "10-14    2.956429\n",
       "15-19    3.035956\n",
       "20-24    3.052219\n",
       "25-29    2.900990\n",
       "30-34    2.931507\n",
       "35-39    3.601707\n",
       "40+      2.941538\n",
       "Name: Price, dtype: float64"
      ]
     },
     "execution_count": 177,
     "metadata": {},
     "output_type": "execute_result"
    }
   ],
   "source": [
    "# avg. purchase price\n",
    "purchase_avg_age = grouped_purchase_age['Price'].mean()\n",
    "purchase_avg_age"
   ]
  },
  {
   "cell_type": "code",
   "execution_count": 178,
   "metadata": {},
   "outputs": [
    {
     "data": {
      "text/plain": [
       "Age Ranges\n",
       "<10        77.13\n",
       "10-14      82.78\n",
       "15-19     412.89\n",
       "20-24    1114.06\n",
       "25-29     293.00\n",
       "30-34     214.00\n",
       "35-39     147.67\n",
       "40+        38.24\n",
       "Name: Price, dtype: float64"
      ]
     },
     "execution_count": 178,
     "metadata": {},
     "output_type": "execute_result"
    }
   ],
   "source": [
    "# total purchase value\n",
    "purchase_total_age  = grouped_purchase_age['Price'].sum()\n",
    "purchase_total_age"
   ]
  },
  {
   "cell_type": "code",
   "execution_count": 179,
   "metadata": {},
   "outputs": [
    {
     "data": {
      "text/plain": [
       "Age Ranges\n",
       "<10      4.537059\n",
       "10-14    3.762727\n",
       "15-19    3.858785\n",
       "20-24    4.318062\n",
       "25-29    3.805195\n",
       "30-34    4.115385\n",
       "35-39    4.763548\n",
       "40+      3.186667\n",
       "dtype: float64"
      ]
     },
     "execution_count": 179,
     "metadata": {},
     "output_type": "execute_result"
    }
   ],
   "source": [
    "# Avg. purchase total purchase per person \n",
    "purchase_total_per_person_age = purchase_total_age / age_group_sum\n",
    "purchase_total_per_person_age"
   ]
  },
  {
   "cell_type": "code",
   "execution_count": 180,
   "metadata": {},
   "outputs": [
    {
     "data": {
      "text/html": [
       "<div>\n",
       "<style scoped>\n",
       "    .dataframe tbody tr th:only-of-type {\n",
       "        vertical-align: middle;\n",
       "    }\n",
       "\n",
       "    .dataframe tbody tr th {\n",
       "        vertical-align: top;\n",
       "    }\n",
       "\n",
       "    .dataframe thead th {\n",
       "        text-align: right;\n",
       "    }\n",
       "</style>\n",
       "<table border=\"1\" class=\"dataframe\">\n",
       "  <thead>\n",
       "    <tr style=\"text-align: right;\">\n",
       "      <th></th>\n",
       "      <th>Purchase Count</th>\n",
       "      <th>Average Purchase Price</th>\n",
       "      <th>Total Purchase Value</th>\n",
       "      <th>Avg Total Purchase per Person</th>\n",
       "    </tr>\n",
       "    <tr>\n",
       "      <th>Age Ranges</th>\n",
       "      <th></th>\n",
       "      <th></th>\n",
       "      <th></th>\n",
       "      <th></th>\n",
       "    </tr>\n",
       "  </thead>\n",
       "  <tbody>\n",
       "    <tr>\n",
       "      <th>&lt;10</th>\n",
       "      <td>23</td>\n",
       "      <td>3.353478</td>\n",
       "      <td>77.13</td>\n",
       "      <td>4.537059</td>\n",
       "    </tr>\n",
       "    <tr>\n",
       "      <th>10-14</th>\n",
       "      <td>28</td>\n",
       "      <td>2.956429</td>\n",
       "      <td>82.78</td>\n",
       "      <td>3.762727</td>\n",
       "    </tr>\n",
       "    <tr>\n",
       "      <th>15-19</th>\n",
       "      <td>136</td>\n",
       "      <td>3.035956</td>\n",
       "      <td>412.89</td>\n",
       "      <td>3.858785</td>\n",
       "    </tr>\n",
       "    <tr>\n",
       "      <th>20-24</th>\n",
       "      <td>365</td>\n",
       "      <td>3.052219</td>\n",
       "      <td>1114.06</td>\n",
       "      <td>4.318062</td>\n",
       "    </tr>\n",
       "    <tr>\n",
       "      <th>25-29</th>\n",
       "      <td>101</td>\n",
       "      <td>2.900990</td>\n",
       "      <td>293.00</td>\n",
       "      <td>3.805195</td>\n",
       "    </tr>\n",
       "    <tr>\n",
       "      <th>30-34</th>\n",
       "      <td>73</td>\n",
       "      <td>2.931507</td>\n",
       "      <td>214.00</td>\n",
       "      <td>4.115385</td>\n",
       "    </tr>\n",
       "    <tr>\n",
       "      <th>35-39</th>\n",
       "      <td>41</td>\n",
       "      <td>3.601707</td>\n",
       "      <td>147.67</td>\n",
       "      <td>4.763548</td>\n",
       "    </tr>\n",
       "    <tr>\n",
       "      <th>40+</th>\n",
       "      <td>13</td>\n",
       "      <td>2.941538</td>\n",
       "      <td>38.24</td>\n",
       "      <td>3.186667</td>\n",
       "    </tr>\n",
       "  </tbody>\n",
       "</table>\n",
       "</div>"
      ],
      "text/plain": [
       "            Purchase Count  Average Purchase Price  Total Purchase Value  \\\n",
       "Age Ranges                                                                 \n",
       "<10                     23                3.353478                 77.13   \n",
       "10-14                   28                2.956429                 82.78   \n",
       "15-19                  136                3.035956                412.89   \n",
       "20-24                  365                3.052219               1114.06   \n",
       "25-29                  101                2.900990                293.00   \n",
       "30-34                   73                2.931507                214.00   \n",
       "35-39                   41                3.601707                147.67   \n",
       "40+                     13                2.941538                 38.24   \n",
       "\n",
       "            Avg Total Purchase per Person  \n",
       "Age Ranges                                 \n",
       "<10                              4.537059  \n",
       "10-14                            3.762727  \n",
       "15-19                            3.858785  \n",
       "20-24                            4.318062  \n",
       "25-29                            3.805195  \n",
       "30-34                            4.115385  \n",
       "35-39                            4.763548  \n",
       "40+                              3.186667  "
      ]
     },
     "execution_count": 180,
     "metadata": {},
     "output_type": "execute_result"
    }
   ],
   "source": [
    "# Create a DataFrame with the 4 grouped results\n",
    "purchase_analysis_age_df = pd.DataFrame({\"Purchase Count\": purchase_count_age, \n",
    "                                            \"Average Purchase Price\": purchase_avg_age, \n",
    "                                            \"Total Purchase Value\": purchase_total_age,\n",
    "                                            \"Avg Total Purchase per Person\": purchase_total_per_person_age\n",
    "                                           })\n",
    "purchase_analysis_age_df"
   ]
  },
  {
   "cell_type": "code",
   "execution_count": 181,
   "metadata": {},
   "outputs": [
    {
     "data": {
      "text/html": [
       "<style  type=\"text/css\" >\n",
       "</style><table id=\"T_82a7d37e_84fe_11ea_a515_5cf370710be5\" ><thead>    <tr>        <th class=\"blank level0\" ></th>        <th class=\"col_heading level0 col0\" >Purchase Count</th>        <th class=\"col_heading level0 col1\" >Average Purchase Price</th>        <th class=\"col_heading level0 col2\" >Total Purchase Value</th>        <th class=\"col_heading level0 col3\" >Avg Total Purchase per Person</th>    </tr>    <tr>        <th class=\"index_name level0\" >Age Ranges</th>        <th class=\"blank\" ></th>        <th class=\"blank\" ></th>        <th class=\"blank\" ></th>        <th class=\"blank\" ></th>    </tr></thead><tbody>\n",
       "                <tr>\n",
       "                        <th id=\"T_82a7d37e_84fe_11ea_a515_5cf370710be5level0_row0\" class=\"row_heading level0 row0\" ><10</th>\n",
       "                        <td id=\"T_82a7d37e_84fe_11ea_a515_5cf370710be5row0_col0\" class=\"data row0 col0\" >23</td>\n",
       "                        <td id=\"T_82a7d37e_84fe_11ea_a515_5cf370710be5row0_col1\" class=\"data row0 col1\" >$                3.35</td>\n",
       "                        <td id=\"T_82a7d37e_84fe_11ea_a515_5cf370710be5row0_col2\" class=\"data row0 col2\" >$               77.13</td>\n",
       "                        <td id=\"T_82a7d37e_84fe_11ea_a515_5cf370710be5row0_col3\" class=\"data row0 col3\" >$                4.54</td>\n",
       "            </tr>\n",
       "            <tr>\n",
       "                        <th id=\"T_82a7d37e_84fe_11ea_a515_5cf370710be5level0_row1\" class=\"row_heading level0 row1\" >10-14</th>\n",
       "                        <td id=\"T_82a7d37e_84fe_11ea_a515_5cf370710be5row1_col0\" class=\"data row1 col0\" >28</td>\n",
       "                        <td id=\"T_82a7d37e_84fe_11ea_a515_5cf370710be5row1_col1\" class=\"data row1 col1\" >$                2.96</td>\n",
       "                        <td id=\"T_82a7d37e_84fe_11ea_a515_5cf370710be5row1_col2\" class=\"data row1 col2\" >$               82.78</td>\n",
       "                        <td id=\"T_82a7d37e_84fe_11ea_a515_5cf370710be5row1_col3\" class=\"data row1 col3\" >$                3.76</td>\n",
       "            </tr>\n",
       "            <tr>\n",
       "                        <th id=\"T_82a7d37e_84fe_11ea_a515_5cf370710be5level0_row2\" class=\"row_heading level0 row2\" >15-19</th>\n",
       "                        <td id=\"T_82a7d37e_84fe_11ea_a515_5cf370710be5row2_col0\" class=\"data row2 col0\" >136</td>\n",
       "                        <td id=\"T_82a7d37e_84fe_11ea_a515_5cf370710be5row2_col1\" class=\"data row2 col1\" >$                3.04</td>\n",
       "                        <td id=\"T_82a7d37e_84fe_11ea_a515_5cf370710be5row2_col2\" class=\"data row2 col2\" >$              412.89</td>\n",
       "                        <td id=\"T_82a7d37e_84fe_11ea_a515_5cf370710be5row2_col3\" class=\"data row2 col3\" >$                3.86</td>\n",
       "            </tr>\n",
       "            <tr>\n",
       "                        <th id=\"T_82a7d37e_84fe_11ea_a515_5cf370710be5level0_row3\" class=\"row_heading level0 row3\" >20-24</th>\n",
       "                        <td id=\"T_82a7d37e_84fe_11ea_a515_5cf370710be5row3_col0\" class=\"data row3 col0\" >365</td>\n",
       "                        <td id=\"T_82a7d37e_84fe_11ea_a515_5cf370710be5row3_col1\" class=\"data row3 col1\" >$                3.05</td>\n",
       "                        <td id=\"T_82a7d37e_84fe_11ea_a515_5cf370710be5row3_col2\" class=\"data row3 col2\" >$            1,114.06</td>\n",
       "                        <td id=\"T_82a7d37e_84fe_11ea_a515_5cf370710be5row3_col3\" class=\"data row3 col3\" >$                4.32</td>\n",
       "            </tr>\n",
       "            <tr>\n",
       "                        <th id=\"T_82a7d37e_84fe_11ea_a515_5cf370710be5level0_row4\" class=\"row_heading level0 row4\" >25-29</th>\n",
       "                        <td id=\"T_82a7d37e_84fe_11ea_a515_5cf370710be5row4_col0\" class=\"data row4 col0\" >101</td>\n",
       "                        <td id=\"T_82a7d37e_84fe_11ea_a515_5cf370710be5row4_col1\" class=\"data row4 col1\" >$                2.90</td>\n",
       "                        <td id=\"T_82a7d37e_84fe_11ea_a515_5cf370710be5row4_col2\" class=\"data row4 col2\" >$              293.00</td>\n",
       "                        <td id=\"T_82a7d37e_84fe_11ea_a515_5cf370710be5row4_col3\" class=\"data row4 col3\" >$                3.81</td>\n",
       "            </tr>\n",
       "            <tr>\n",
       "                        <th id=\"T_82a7d37e_84fe_11ea_a515_5cf370710be5level0_row5\" class=\"row_heading level0 row5\" >30-34</th>\n",
       "                        <td id=\"T_82a7d37e_84fe_11ea_a515_5cf370710be5row5_col0\" class=\"data row5 col0\" >73</td>\n",
       "                        <td id=\"T_82a7d37e_84fe_11ea_a515_5cf370710be5row5_col1\" class=\"data row5 col1\" >$                2.93</td>\n",
       "                        <td id=\"T_82a7d37e_84fe_11ea_a515_5cf370710be5row5_col2\" class=\"data row5 col2\" >$              214.00</td>\n",
       "                        <td id=\"T_82a7d37e_84fe_11ea_a515_5cf370710be5row5_col3\" class=\"data row5 col3\" >$                4.12</td>\n",
       "            </tr>\n",
       "            <tr>\n",
       "                        <th id=\"T_82a7d37e_84fe_11ea_a515_5cf370710be5level0_row6\" class=\"row_heading level0 row6\" >35-39</th>\n",
       "                        <td id=\"T_82a7d37e_84fe_11ea_a515_5cf370710be5row6_col0\" class=\"data row6 col0\" >41</td>\n",
       "                        <td id=\"T_82a7d37e_84fe_11ea_a515_5cf370710be5row6_col1\" class=\"data row6 col1\" >$                3.60</td>\n",
       "                        <td id=\"T_82a7d37e_84fe_11ea_a515_5cf370710be5row6_col2\" class=\"data row6 col2\" >$              147.67</td>\n",
       "                        <td id=\"T_82a7d37e_84fe_11ea_a515_5cf370710be5row6_col3\" class=\"data row6 col3\" >$                4.76</td>\n",
       "            </tr>\n",
       "            <tr>\n",
       "                        <th id=\"T_82a7d37e_84fe_11ea_a515_5cf370710be5level0_row7\" class=\"row_heading level0 row7\" >40+</th>\n",
       "                        <td id=\"T_82a7d37e_84fe_11ea_a515_5cf370710be5row7_col0\" class=\"data row7 col0\" >13</td>\n",
       "                        <td id=\"T_82a7d37e_84fe_11ea_a515_5cf370710be5row7_col1\" class=\"data row7 col1\" >$                2.94</td>\n",
       "                        <td id=\"T_82a7d37e_84fe_11ea_a515_5cf370710be5row7_col2\" class=\"data row7 col2\" >$               38.24</td>\n",
       "                        <td id=\"T_82a7d37e_84fe_11ea_a515_5cf370710be5row7_col3\" class=\"data row7 col3\" >$                3.19</td>\n",
       "            </tr>\n",
       "    </tbody></table>"
      ],
      "text/plain": [
       "<pandas.io.formats.style.Styler at 0x22e0be60fc8>"
      ]
     },
     "execution_count": 181,
     "metadata": {},
     "output_type": "execute_result"
    }
   ],
   "source": [
    "# Style selected columns expressing currency and 2 decimal spaces\n",
    "purchase_analysis_age_df = purchase_analysis_age_df.style.format({\"Average Purchase Price\": \"${:20,.2f}\", \n",
    "                                                          \"Total Purchase Value\": \"${:20,.2f}\", \n",
    "                                                          \"Avg Total Purchase per Person\": \"${:20,.2f}\"\n",
    "                                                         })\n",
    "purchase_analysis_age_df"
   ]
  },
  {
   "cell_type": "markdown",
   "metadata": {},
   "source": [
    "### Answer"
   ]
  },
  {
   "cell_type": "code",
   "execution_count": 182,
   "metadata": {},
   "outputs": [
    {
     "data": {
      "text/html": [
       "<style  type=\"text/css\" >\n",
       "</style><table id=\"T_82a90b26_84fe_11ea_b93d_5cf370710be5\" ><thead>    <tr>        <th class=\"blank level0\" ></th>        <th class=\"col_heading level0 col0\" >Purchase Count</th>        <th class=\"col_heading level0 col1\" >Average Purchase Price</th>        <th class=\"col_heading level0 col2\" >Total Purchase Value</th>        <th class=\"col_heading level0 col3\" >Avg Total Purchase per Person</th>    </tr>    <tr>        <th class=\"index_name level0\" >Age Ranges</th>        <th class=\"blank\" ></th>        <th class=\"blank\" ></th>        <th class=\"blank\" ></th>        <th class=\"blank\" ></th>    </tr></thead><tbody>\n",
       "                <tr>\n",
       "                        <th id=\"T_82a90b26_84fe_11ea_b93d_5cf370710be5level0_row0\" class=\"row_heading level0 row0\" ><10</th>\n",
       "                        <td id=\"T_82a90b26_84fe_11ea_b93d_5cf370710be5row0_col0\" class=\"data row0 col0\" >23</td>\n",
       "                        <td id=\"T_82a90b26_84fe_11ea_b93d_5cf370710be5row0_col1\" class=\"data row0 col1\" >$                3.35</td>\n",
       "                        <td id=\"T_82a90b26_84fe_11ea_b93d_5cf370710be5row0_col2\" class=\"data row0 col2\" >$               77.13</td>\n",
       "                        <td id=\"T_82a90b26_84fe_11ea_b93d_5cf370710be5row0_col3\" class=\"data row0 col3\" >$                4.54</td>\n",
       "            </tr>\n",
       "            <tr>\n",
       "                        <th id=\"T_82a90b26_84fe_11ea_b93d_5cf370710be5level0_row1\" class=\"row_heading level0 row1\" >10-14</th>\n",
       "                        <td id=\"T_82a90b26_84fe_11ea_b93d_5cf370710be5row1_col0\" class=\"data row1 col0\" >28</td>\n",
       "                        <td id=\"T_82a90b26_84fe_11ea_b93d_5cf370710be5row1_col1\" class=\"data row1 col1\" >$                2.96</td>\n",
       "                        <td id=\"T_82a90b26_84fe_11ea_b93d_5cf370710be5row1_col2\" class=\"data row1 col2\" >$               82.78</td>\n",
       "                        <td id=\"T_82a90b26_84fe_11ea_b93d_5cf370710be5row1_col3\" class=\"data row1 col3\" >$                3.76</td>\n",
       "            </tr>\n",
       "            <tr>\n",
       "                        <th id=\"T_82a90b26_84fe_11ea_b93d_5cf370710be5level0_row2\" class=\"row_heading level0 row2\" >15-19</th>\n",
       "                        <td id=\"T_82a90b26_84fe_11ea_b93d_5cf370710be5row2_col0\" class=\"data row2 col0\" >136</td>\n",
       "                        <td id=\"T_82a90b26_84fe_11ea_b93d_5cf370710be5row2_col1\" class=\"data row2 col1\" >$                3.04</td>\n",
       "                        <td id=\"T_82a90b26_84fe_11ea_b93d_5cf370710be5row2_col2\" class=\"data row2 col2\" >$              412.89</td>\n",
       "                        <td id=\"T_82a90b26_84fe_11ea_b93d_5cf370710be5row2_col3\" class=\"data row2 col3\" >$                3.86</td>\n",
       "            </tr>\n",
       "            <tr>\n",
       "                        <th id=\"T_82a90b26_84fe_11ea_b93d_5cf370710be5level0_row3\" class=\"row_heading level0 row3\" >20-24</th>\n",
       "                        <td id=\"T_82a90b26_84fe_11ea_b93d_5cf370710be5row3_col0\" class=\"data row3 col0\" >365</td>\n",
       "                        <td id=\"T_82a90b26_84fe_11ea_b93d_5cf370710be5row3_col1\" class=\"data row3 col1\" >$                3.05</td>\n",
       "                        <td id=\"T_82a90b26_84fe_11ea_b93d_5cf370710be5row3_col2\" class=\"data row3 col2\" >$            1,114.06</td>\n",
       "                        <td id=\"T_82a90b26_84fe_11ea_b93d_5cf370710be5row3_col3\" class=\"data row3 col3\" >$                4.32</td>\n",
       "            </tr>\n",
       "            <tr>\n",
       "                        <th id=\"T_82a90b26_84fe_11ea_b93d_5cf370710be5level0_row4\" class=\"row_heading level0 row4\" >25-29</th>\n",
       "                        <td id=\"T_82a90b26_84fe_11ea_b93d_5cf370710be5row4_col0\" class=\"data row4 col0\" >101</td>\n",
       "                        <td id=\"T_82a90b26_84fe_11ea_b93d_5cf370710be5row4_col1\" class=\"data row4 col1\" >$                2.90</td>\n",
       "                        <td id=\"T_82a90b26_84fe_11ea_b93d_5cf370710be5row4_col2\" class=\"data row4 col2\" >$              293.00</td>\n",
       "                        <td id=\"T_82a90b26_84fe_11ea_b93d_5cf370710be5row4_col3\" class=\"data row4 col3\" >$                3.81</td>\n",
       "            </tr>\n",
       "            <tr>\n",
       "                        <th id=\"T_82a90b26_84fe_11ea_b93d_5cf370710be5level0_row5\" class=\"row_heading level0 row5\" >30-34</th>\n",
       "                        <td id=\"T_82a90b26_84fe_11ea_b93d_5cf370710be5row5_col0\" class=\"data row5 col0\" >73</td>\n",
       "                        <td id=\"T_82a90b26_84fe_11ea_b93d_5cf370710be5row5_col1\" class=\"data row5 col1\" >$                2.93</td>\n",
       "                        <td id=\"T_82a90b26_84fe_11ea_b93d_5cf370710be5row5_col2\" class=\"data row5 col2\" >$              214.00</td>\n",
       "                        <td id=\"T_82a90b26_84fe_11ea_b93d_5cf370710be5row5_col3\" class=\"data row5 col3\" >$                4.12</td>\n",
       "            </tr>\n",
       "            <tr>\n",
       "                        <th id=\"T_82a90b26_84fe_11ea_b93d_5cf370710be5level0_row6\" class=\"row_heading level0 row6\" >35-39</th>\n",
       "                        <td id=\"T_82a90b26_84fe_11ea_b93d_5cf370710be5row6_col0\" class=\"data row6 col0\" >41</td>\n",
       "                        <td id=\"T_82a90b26_84fe_11ea_b93d_5cf370710be5row6_col1\" class=\"data row6 col1\" >$                3.60</td>\n",
       "                        <td id=\"T_82a90b26_84fe_11ea_b93d_5cf370710be5row6_col2\" class=\"data row6 col2\" >$              147.67</td>\n",
       "                        <td id=\"T_82a90b26_84fe_11ea_b93d_5cf370710be5row6_col3\" class=\"data row6 col3\" >$                4.76</td>\n",
       "            </tr>\n",
       "            <tr>\n",
       "                        <th id=\"T_82a90b26_84fe_11ea_b93d_5cf370710be5level0_row7\" class=\"row_heading level0 row7\" >40+</th>\n",
       "                        <td id=\"T_82a90b26_84fe_11ea_b93d_5cf370710be5row7_col0\" class=\"data row7 col0\" >13</td>\n",
       "                        <td id=\"T_82a90b26_84fe_11ea_b93d_5cf370710be5row7_col1\" class=\"data row7 col1\" >$                2.94</td>\n",
       "                        <td id=\"T_82a90b26_84fe_11ea_b93d_5cf370710be5row7_col2\" class=\"data row7 col2\" >$               38.24</td>\n",
       "                        <td id=\"T_82a90b26_84fe_11ea_b93d_5cf370710be5row7_col3\" class=\"data row7 col3\" >$                3.19</td>\n",
       "            </tr>\n",
       "    </tbody></table>"
      ],
      "text/plain": [
       "<pandas.io.formats.style.Styler at 0x22e0be60fc8>"
      ]
     },
     "execution_count": 182,
     "metadata": {},
     "output_type": "execute_result"
    }
   ],
   "source": [
    "purchase_analysis_age_df"
   ]
  },
  {
   "cell_type": "markdown",
   "metadata": {},
   "source": [
    "<a name=\"Top-Spender\"></a>"
   ]
  },
  {
   "cell_type": "markdown",
   "metadata": {},
   "source": [
    "## **Top Spenders**"
   ]
  },
  {
   "cell_type": "markdown",
   "metadata": {},
   "source": [
    "* Run basic calculations to obtain the results in the table below\n",
    "\n",
    "\n",
    "* Create a summary data frame to hold the results\n",
    "\n",
    "\n",
    "* Sort the total purchase value column in descending order\n",
    "\n",
    "\n",
    "* Give the displayed data cleaner formatting\n",
    "\n",
    "\n",
    "* Display a preview of the summary data frame\n",
    "\n"
   ]
  },
  {
   "cell_type": "code",
   "execution_count": 183,
   "metadata": {},
   "outputs": [],
   "source": [
    "# Make copy of df before moving on\n",
    "converted_purchase_data_df3 = df_purchase_data.copy()"
   ]
  },
  {
   "cell_type": "code",
   "execution_count": 184,
   "metadata": {},
   "outputs": [
    {
     "data": {
      "text/plain": [
       "Lisosia93       5\n",
       "Idastidru52     4\n",
       "Iral74          4\n",
       "Iskadarya95     3\n",
       "Ilarin91        3\n",
       "               ..\n",
       "Undista85       1\n",
       "Tyaelaelis94    1\n",
       "Sondadarya58    1\n",
       "Lisovynya38     1\n",
       "Iskosia90       1\n",
       "Name: SN, Length: 576, dtype: int64"
      ]
     },
     "execution_count": 184,
     "metadata": {},
     "output_type": "execute_result"
    }
   ],
   "source": [
    "# Find value count by SN\n",
    "converted_purchase_data_df3['SN'].value_counts()"
   ]
  },
  {
   "cell_type": "code",
   "execution_count": 185,
   "metadata": {},
   "outputs": [],
   "source": [
    "# Group information by SN for filtering\n",
    "grouped_sn = converted_purchase_data_df3.groupby('SN')"
   ]
  },
  {
   "cell_type": "code",
   "execution_count": 186,
   "metadata": {},
   "outputs": [
    {
     "data": {
      "text/plain": [
       "5"
      ]
     },
     "execution_count": 186,
     "metadata": {},
     "output_type": "execute_result"
    }
   ],
   "source": [
    "# Find Max \n",
    "grouped_sn_purchase_count = grouped_sn['Purchase ID'].count()\n",
    "grouped_sn_purchase_count.max()"
   ]
  },
  {
   "cell_type": "code",
   "execution_count": 187,
   "metadata": {},
   "outputs": [
    {
     "data": {
      "text/plain": [
       "SN\n",
       "Adairialis76     2.280000\n",
       "Adastirin33      4.480000\n",
       "Aeda94           4.910000\n",
       "Aela59           4.320000\n",
       "Aelaria33        1.790000\n",
       "                   ...   \n",
       "Yathecal82       2.073333\n",
       "Yathedeu43       3.010000\n",
       "Yoishirrala98    4.580000\n",
       "Zhisrisu83       3.945000\n",
       "Zontibe81        2.676667\n",
       "Name: Price, Length: 576, dtype: float64"
      ]
     },
     "execution_count": 187,
     "metadata": {},
     "output_type": "execute_result"
    }
   ],
   "source": [
    "# Group and find avg price per SN\n",
    "grouped_sn_purchase_avg = grouped_sn['Price'].mean()\n",
    "grouped_sn_purchase_avg"
   ]
  },
  {
   "cell_type": "code",
   "execution_count": 188,
   "metadata": {},
   "outputs": [
    {
     "data": {
      "text/plain": [
       "18.96"
      ]
     },
     "execution_count": 188,
     "metadata": {},
     "output_type": "execute_result"
    }
   ],
   "source": [
    "grouped_sn_purchase_sum = grouped_sn['Price'].sum()\n",
    "grouped_sn_purchase_sum.max()"
   ]
  },
  {
   "cell_type": "code",
   "execution_count": 189,
   "metadata": {},
   "outputs": [
    {
     "data": {
      "text/plain": [
       "Purchase Count             5.00\n",
       "Average Purchase Price     4.99\n",
       "Total Purchase Value      18.96\n",
       "dtype: float64"
      ]
     },
     "execution_count": 189,
     "metadata": {},
     "output_type": "execute_result"
    }
   ],
   "source": [
    "# Create a DataFrame with values requested\n",
    "top_spenders_df = pd.DataFrame({\n",
    "    \"Purchase Count\": grouped_sn_purchase_count,\n",
    "    \"Average Purchase Price\": grouped_sn_purchase_avg,\n",
    "    \"Total Purchase Value\": grouped_sn_purchase_sum})\n",
    "top_spenders_df.max()"
   ]
  },
  {
   "cell_type": "code",
   "execution_count": 190,
   "metadata": {},
   "outputs": [
    {
     "data": {
      "text/html": [
       "<div>\n",
       "<style scoped>\n",
       "    .dataframe tbody tr th:only-of-type {\n",
       "        vertical-align: middle;\n",
       "    }\n",
       "\n",
       "    .dataframe tbody tr th {\n",
       "        vertical-align: top;\n",
       "    }\n",
       "\n",
       "    .dataframe thead th {\n",
       "        text-align: right;\n",
       "    }\n",
       "</style>\n",
       "<table border=\"1\" class=\"dataframe\">\n",
       "  <thead>\n",
       "    <tr style=\"text-align: right;\">\n",
       "      <th></th>\n",
       "      <th>Purchase Count</th>\n",
       "      <th>Average Purchase Price</th>\n",
       "      <th>Total Purchase Value</th>\n",
       "    </tr>\n",
       "    <tr>\n",
       "      <th>SN</th>\n",
       "      <th></th>\n",
       "      <th></th>\n",
       "      <th></th>\n",
       "    </tr>\n",
       "  </thead>\n",
       "  <tbody>\n",
       "    <tr>\n",
       "      <th>Lisosia93</th>\n",
       "      <td>5</td>\n",
       "      <td>3.792000</td>\n",
       "      <td>18.96</td>\n",
       "    </tr>\n",
       "    <tr>\n",
       "      <th>Idastidru52</th>\n",
       "      <td>4</td>\n",
       "      <td>3.862500</td>\n",
       "      <td>15.45</td>\n",
       "    </tr>\n",
       "    <tr>\n",
       "      <th>Chamjask73</th>\n",
       "      <td>3</td>\n",
       "      <td>4.610000</td>\n",
       "      <td>13.83</td>\n",
       "    </tr>\n",
       "    <tr>\n",
       "      <th>Iral74</th>\n",
       "      <td>4</td>\n",
       "      <td>3.405000</td>\n",
       "      <td>13.62</td>\n",
       "    </tr>\n",
       "    <tr>\n",
       "      <th>Iskadarya95</th>\n",
       "      <td>3</td>\n",
       "      <td>4.366667</td>\n",
       "      <td>13.10</td>\n",
       "    </tr>\n",
       "    <tr>\n",
       "      <th>...</th>\n",
       "      <td>...</td>\n",
       "      <td>...</td>\n",
       "      <td>...</td>\n",
       "    </tr>\n",
       "    <tr>\n",
       "      <th>Ililsasya43</th>\n",
       "      <td>1</td>\n",
       "      <td>1.020000</td>\n",
       "      <td>1.02</td>\n",
       "    </tr>\n",
       "    <tr>\n",
       "      <th>Irilis75</th>\n",
       "      <td>1</td>\n",
       "      <td>1.020000</td>\n",
       "      <td>1.02</td>\n",
       "    </tr>\n",
       "    <tr>\n",
       "      <th>Aidai61</th>\n",
       "      <td>1</td>\n",
       "      <td>1.010000</td>\n",
       "      <td>1.01</td>\n",
       "    </tr>\n",
       "    <tr>\n",
       "      <th>Chanirra79</th>\n",
       "      <td>1</td>\n",
       "      <td>1.010000</td>\n",
       "      <td>1.01</td>\n",
       "    </tr>\n",
       "    <tr>\n",
       "      <th>Alo38</th>\n",
       "      <td>1</td>\n",
       "      <td>1.000000</td>\n",
       "      <td>1.00</td>\n",
       "    </tr>\n",
       "  </tbody>\n",
       "</table>\n",
       "<p>576 rows × 3 columns</p>\n",
       "</div>"
      ],
      "text/plain": [
       "             Purchase Count  Average Purchase Price  Total Purchase Value\n",
       "SN                                                                       \n",
       "Lisosia93                 5                3.792000                 18.96\n",
       "Idastidru52               4                3.862500                 15.45\n",
       "Chamjask73                3                4.610000                 13.83\n",
       "Iral74                    4                3.405000                 13.62\n",
       "Iskadarya95               3                4.366667                 13.10\n",
       "...                     ...                     ...                   ...\n",
       "Ililsasya43               1                1.020000                  1.02\n",
       "Irilis75                  1                1.020000                  1.02\n",
       "Aidai61                   1                1.010000                  1.01\n",
       "Chanirra79                1                1.010000                  1.01\n",
       "Alo38                     1                1.000000                  1.00\n",
       "\n",
       "[576 rows x 3 columns]"
      ]
     },
     "execution_count": 190,
     "metadata": {},
     "output_type": "execute_result"
    }
   ],
   "source": [
    "# Sort top spenders by descending\n",
    "top_spenders_df.sort_values(\"Total Purchase Value\", ascending=False)"
   ]
  },
  {
   "cell_type": "code",
   "execution_count": 191,
   "metadata": {},
   "outputs": [],
   "source": [
    "# Sort by Total Purchase Value -- Decending\n",
    "top_spenders_df_sorted = top_spenders_df.sort_values(\"Total Purchase Value\", ascending=False)"
   ]
  },
  {
   "cell_type": "code",
   "execution_count": 192,
   "metadata": {},
   "outputs": [],
   "source": [
    "#Style Average Purchase Price and Total Purchase Value as currency with two decimals\n",
    "top_spenders_df_sorted[\"Average Purchase Price\"] = top_spenders_df_sorted[\"Average Purchase Price\"].map(\"${:.2f}\".format)\n",
    "top_spenders_df_sorted[\"Total Purchase Value\"] = top_spenders_df_sorted[\"Total Purchase Value\"].map(\"${:.2f}\".format)"
   ]
  },
  {
   "cell_type": "markdown",
   "metadata": {},
   "source": [
    "### Answer"
   ]
  },
  {
   "cell_type": "code",
   "execution_count": 193,
   "metadata": {},
   "outputs": [
    {
     "data": {
      "text/html": [
       "<div>\n",
       "<style scoped>\n",
       "    .dataframe tbody tr th:only-of-type {\n",
       "        vertical-align: middle;\n",
       "    }\n",
       "\n",
       "    .dataframe tbody tr th {\n",
       "        vertical-align: top;\n",
       "    }\n",
       "\n",
       "    .dataframe thead th {\n",
       "        text-align: right;\n",
       "    }\n",
       "</style>\n",
       "<table border=\"1\" class=\"dataframe\">\n",
       "  <thead>\n",
       "    <tr style=\"text-align: right;\">\n",
       "      <th></th>\n",
       "      <th>Purchase Count</th>\n",
       "      <th>Average Purchase Price</th>\n",
       "      <th>Total Purchase Value</th>\n",
       "    </tr>\n",
       "    <tr>\n",
       "      <th>SN</th>\n",
       "      <th></th>\n",
       "      <th></th>\n",
       "      <th></th>\n",
       "    </tr>\n",
       "  </thead>\n",
       "  <tbody>\n",
       "    <tr>\n",
       "      <th>Lisosia93</th>\n",
       "      <td>5</td>\n",
       "      <td>$3.79</td>\n",
       "      <td>$18.96</td>\n",
       "    </tr>\n",
       "    <tr>\n",
       "      <th>Idastidru52</th>\n",
       "      <td>4</td>\n",
       "      <td>$3.86</td>\n",
       "      <td>$15.45</td>\n",
       "    </tr>\n",
       "    <tr>\n",
       "      <th>Chamjask73</th>\n",
       "      <td>3</td>\n",
       "      <td>$4.61</td>\n",
       "      <td>$13.83</td>\n",
       "    </tr>\n",
       "    <tr>\n",
       "      <th>Iral74</th>\n",
       "      <td>4</td>\n",
       "      <td>$3.40</td>\n",
       "      <td>$13.62</td>\n",
       "    </tr>\n",
       "    <tr>\n",
       "      <th>Iskadarya95</th>\n",
       "      <td>3</td>\n",
       "      <td>$4.37</td>\n",
       "      <td>$13.10</td>\n",
       "    </tr>\n",
       "  </tbody>\n",
       "</table>\n",
       "</div>"
      ],
      "text/plain": [
       "             Purchase Count Average Purchase Price Total Purchase Value\n",
       "SN                                                                     \n",
       "Lisosia93                 5                  $3.79               $18.96\n",
       "Idastidru52               4                  $3.86               $15.45\n",
       "Chamjask73                3                  $4.61               $13.83\n",
       "Iral74                    4                  $3.40               $13.62\n",
       "Iskadarya95               3                  $4.37               $13.10"
      ]
     },
     "execution_count": 193,
     "metadata": {},
     "output_type": "execute_result"
    }
   ],
   "source": [
    "top_spenders_df_sorted.head()"
   ]
  },
  {
   "cell_type": "markdown",
   "metadata": {},
   "source": [
    "<a name=\"Most-Popular-Item\"></a>"
   ]
  },
  {
   "cell_type": "markdown",
   "metadata": {},
   "source": [
    "## **Most Popular Items**"
   ]
  },
  {
   "cell_type": "markdown",
   "metadata": {},
   "source": [
    "* Retrieve the Item ID, Item Name, and Item Price columns\n",
    "\n",
    "\n",
    "* Group by Item ID and Item Name. Perform calculations to obtain purchase count, item price, and total purchase value\n",
    "\n",
    "\n",
    "* Create a summary data frame to hold the results\n",
    "\n",
    "\n",
    "* Sort the purchase count column in descending order\n",
    "\n",
    "\n",
    "* Give the displayed data cleaner formatting\n",
    "\n",
    "\n",
    "* Display a preview of the summary data frame"
   ]
  },
  {
   "cell_type": "code",
   "execution_count": 194,
   "metadata": {},
   "outputs": [],
   "source": [
    "# Make copy of df before moving on\n",
    "converted_purchase_data_df4 = df_purchase_data[['Item ID', 'Item Name', 'Price']].copy()"
   ]
  },
  {
   "cell_type": "code",
   "execution_count": 195,
   "metadata": {},
   "outputs": [],
   "source": [
    "# Group by Item ID and Item Name\n",
    "grouped_itemID_itemName = converted_purchase_data_df4.groupby([\"Item ID\", \"Item Name\"])"
   ]
  },
  {
   "cell_type": "code",
   "execution_count": 196,
   "metadata": {},
   "outputs": [],
   "source": [
    "# Item Price average :: Some items have been sold for different prices. The average will be calculated and put under item price\n",
    "# Some items have not sold for different prices and will not be changed.\n",
    "item_prices = grouped_itemID_itemName['Price'].mean()"
   ]
  },
  {
   "cell_type": "code",
   "execution_count": 197,
   "metadata": {},
   "outputs": [],
   "source": [
    "# Purchase Count \n",
    "grouped_purchase_count = grouped_itemID_itemName['Price'].count()"
   ]
  },
  {
   "cell_type": "code",
   "execution_count": 198,
   "metadata": {},
   "outputs": [],
   "source": [
    "# Grouped Total Purchase Value \n",
    "grouped_purchase_sum = grouped_itemID_itemName['Price'].sum()"
   ]
  },
  {
   "cell_type": "code",
   "execution_count": 199,
   "metadata": {},
   "outputs": [
    {
     "data": {
      "text/html": [
       "<div>\n",
       "<style scoped>\n",
       "    .dataframe tbody tr th:only-of-type {\n",
       "        vertical-align: middle;\n",
       "    }\n",
       "\n",
       "    .dataframe tbody tr th {\n",
       "        vertical-align: top;\n",
       "    }\n",
       "\n",
       "    .dataframe thead th {\n",
       "        text-align: right;\n",
       "    }\n",
       "</style>\n",
       "<table border=\"1\" class=\"dataframe\">\n",
       "  <thead>\n",
       "    <tr style=\"text-align: right;\">\n",
       "      <th></th>\n",
       "      <th></th>\n",
       "      <th>Purchase Count</th>\n",
       "      <th>Item Price</th>\n",
       "      <th>Total Purchase Value</th>\n",
       "    </tr>\n",
       "    <tr>\n",
       "      <th>Item ID</th>\n",
       "      <th>Item Name</th>\n",
       "      <th></th>\n",
       "      <th></th>\n",
       "      <th></th>\n",
       "    </tr>\n",
       "  </thead>\n",
       "  <tbody>\n",
       "    <tr>\n",
       "      <th>0</th>\n",
       "      <th>Splinter</th>\n",
       "      <td>4</td>\n",
       "      <td>1.2800</td>\n",
       "      <td>5.12</td>\n",
       "    </tr>\n",
       "    <tr>\n",
       "      <th>1</th>\n",
       "      <th>Crucifer</th>\n",
       "      <td>4</td>\n",
       "      <td>2.9425</td>\n",
       "      <td>11.77</td>\n",
       "    </tr>\n",
       "    <tr>\n",
       "      <th>2</th>\n",
       "      <th>Verdict</th>\n",
       "      <td>6</td>\n",
       "      <td>2.4800</td>\n",
       "      <td>14.88</td>\n",
       "    </tr>\n",
       "    <tr>\n",
       "      <th>3</th>\n",
       "      <th>Phantomlight</th>\n",
       "      <td>6</td>\n",
       "      <td>2.4900</td>\n",
       "      <td>14.94</td>\n",
       "    </tr>\n",
       "    <tr>\n",
       "      <th>4</th>\n",
       "      <th>Bloodlord's Fetish</th>\n",
       "      <td>5</td>\n",
       "      <td>1.7000</td>\n",
       "      <td>8.50</td>\n",
       "    </tr>\n",
       "    <tr>\n",
       "      <th>...</th>\n",
       "      <th>...</th>\n",
       "      <td>...</td>\n",
       "      <td>...</td>\n",
       "      <td>...</td>\n",
       "    </tr>\n",
       "    <tr>\n",
       "      <th>178</th>\n",
       "      <th>Oathbreaker, Last Hope of the Breaking Storm</th>\n",
       "      <td>12</td>\n",
       "      <td>4.2300</td>\n",
       "      <td>50.76</td>\n",
       "    </tr>\n",
       "    <tr>\n",
       "      <th>179</th>\n",
       "      <th>Wolf, Promise of the Moonwalker</th>\n",
       "      <td>6</td>\n",
       "      <td>4.4800</td>\n",
       "      <td>26.88</td>\n",
       "    </tr>\n",
       "    <tr>\n",
       "      <th>181</th>\n",
       "      <th>Reaper's Toll</th>\n",
       "      <td>5</td>\n",
       "      <td>1.6600</td>\n",
       "      <td>8.30</td>\n",
       "    </tr>\n",
       "    <tr>\n",
       "      <th>182</th>\n",
       "      <th>Toothpick</th>\n",
       "      <td>3</td>\n",
       "      <td>4.0300</td>\n",
       "      <td>12.09</td>\n",
       "    </tr>\n",
       "    <tr>\n",
       "      <th>183</th>\n",
       "      <th>Dragon's Greatsword</th>\n",
       "      <td>3</td>\n",
       "      <td>1.0900</td>\n",
       "      <td>3.27</td>\n",
       "    </tr>\n",
       "  </tbody>\n",
       "</table>\n",
       "<p>179 rows × 3 columns</p>\n",
       "</div>"
      ],
      "text/plain": [
       "                                                      Purchase Count  \\\n",
       "Item ID Item Name                                                      \n",
       "0       Splinter                                                   4   \n",
       "1       Crucifer                                                   4   \n",
       "2       Verdict                                                    6   \n",
       "3       Phantomlight                                               6   \n",
       "4       Bloodlord's Fetish                                         5   \n",
       "...                                                              ...   \n",
       "178     Oathbreaker, Last Hope of the Breaking Storm              12   \n",
       "179     Wolf, Promise of the Moonwalker                            6   \n",
       "181     Reaper's Toll                                              5   \n",
       "182     Toothpick                                                  3   \n",
       "183     Dragon's Greatsword                                        3   \n",
       "\n",
       "                                                      Item Price  \\\n",
       "Item ID Item Name                                                  \n",
       "0       Splinter                                          1.2800   \n",
       "1       Crucifer                                          2.9425   \n",
       "2       Verdict                                           2.4800   \n",
       "3       Phantomlight                                      2.4900   \n",
       "4       Bloodlord's Fetish                                1.7000   \n",
       "...                                                          ...   \n",
       "178     Oathbreaker, Last Hope of the Breaking Storm      4.2300   \n",
       "179     Wolf, Promise of the Moonwalker                   4.4800   \n",
       "181     Reaper's Toll                                     1.6600   \n",
       "182     Toothpick                                         4.0300   \n",
       "183     Dragon's Greatsword                               1.0900   \n",
       "\n",
       "                                                      Total Purchase Value  \n",
       "Item ID Item Name                                                           \n",
       "0       Splinter                                                      5.12  \n",
       "1       Crucifer                                                     11.77  \n",
       "2       Verdict                                                      14.88  \n",
       "3       Phantomlight                                                 14.94  \n",
       "4       Bloodlord's Fetish                                            8.50  \n",
       "...                                                                    ...  \n",
       "178     Oathbreaker, Last Hope of the Breaking Storm                 50.76  \n",
       "179     Wolf, Promise of the Moonwalker                              26.88  \n",
       "181     Reaper's Toll                                                 8.30  \n",
       "182     Toothpick                                                    12.09  \n",
       "183     Dragon's Greatsword                                           3.27  \n",
       "\n",
       "[179 rows x 3 columns]"
      ]
     },
     "execution_count": 199,
     "metadata": {},
     "output_type": "execute_result"
    }
   ],
   "source": [
    "# Create a DataFrame with values requested\n",
    "most_pop_items_df = pd.DataFrame({\n",
    "    \"Purchase Count\": grouped_purchase_count,\n",
    "    \"Item Price\": item_prices,\n",
    "    \"Total Purchase Value\": grouped_purchase_sum})\n",
    "most_pop_items_df"
   ]
  },
  {
   "cell_type": "code",
   "execution_count": 200,
   "metadata": {},
   "outputs": [],
   "source": [
    "# Sort by descending \n",
    "most_pop_items_df = most_pop_items_df.sort_values(\"Purchase Count\", ascending=False)"
   ]
  },
  {
   "cell_type": "code",
   "execution_count": 201,
   "metadata": {},
   "outputs": [],
   "source": [
    "# Sort by descending - Most profitable items - Used in next section 'Most Profitable Items'\n",
    "most_profit_items_df = most_pop_items_df.sort_values(\"Total Purchase Value\", ascending=False)"
   ]
  },
  {
   "cell_type": "code",
   "execution_count": 202,
   "metadata": {},
   "outputs": [],
   "source": [
    "#Style Average Purchase Price and Total Purchase Value as currency with two decimals\n",
    "most_pop_items_df[\"Item Price\"] = most_pop_items_df[\"Item Price\"].map(\"${:.2f}\".format)\n",
    "most_pop_items_df[\"Total Purchase Value\"] = most_pop_items_df[\"Total Purchase Value\"].map(\"${:.2f}\".format)"
   ]
  },
  {
   "cell_type": "markdown",
   "metadata": {},
   "source": [
    "### Answer"
   ]
  },
  {
   "cell_type": "code",
   "execution_count": 203,
   "metadata": {},
   "outputs": [
    {
     "data": {
      "text/html": [
       "<div>\n",
       "<style scoped>\n",
       "    .dataframe tbody tr th:only-of-type {\n",
       "        vertical-align: middle;\n",
       "    }\n",
       "\n",
       "    .dataframe tbody tr th {\n",
       "        vertical-align: top;\n",
       "    }\n",
       "\n",
       "    .dataframe thead th {\n",
       "        text-align: right;\n",
       "    }\n",
       "</style>\n",
       "<table border=\"1\" class=\"dataframe\">\n",
       "  <thead>\n",
       "    <tr style=\"text-align: right;\">\n",
       "      <th></th>\n",
       "      <th></th>\n",
       "      <th>Purchase Count</th>\n",
       "      <th>Item Price</th>\n",
       "      <th>Total Purchase Value</th>\n",
       "    </tr>\n",
       "    <tr>\n",
       "      <th>Item ID</th>\n",
       "      <th>Item Name</th>\n",
       "      <th></th>\n",
       "      <th></th>\n",
       "      <th></th>\n",
       "    </tr>\n",
       "  </thead>\n",
       "  <tbody>\n",
       "    <tr>\n",
       "      <th>92</th>\n",
       "      <th>Final Critic</th>\n",
       "      <td>13</td>\n",
       "      <td>$4.61</td>\n",
       "      <td>$59.99</td>\n",
       "    </tr>\n",
       "    <tr>\n",
       "      <th>178</th>\n",
       "      <th>Oathbreaker, Last Hope of the Breaking Storm</th>\n",
       "      <td>12</td>\n",
       "      <td>$4.23</td>\n",
       "      <td>$50.76</td>\n",
       "    </tr>\n",
       "    <tr>\n",
       "      <th>145</th>\n",
       "      <th>Fiery Glass Crusader</th>\n",
       "      <td>9</td>\n",
       "      <td>$4.58</td>\n",
       "      <td>$41.22</td>\n",
       "    </tr>\n",
       "    <tr>\n",
       "      <th>132</th>\n",
       "      <th>Persuasion</th>\n",
       "      <td>9</td>\n",
       "      <td>$3.22</td>\n",
       "      <td>$28.99</td>\n",
       "    </tr>\n",
       "    <tr>\n",
       "      <th>108</th>\n",
       "      <th>Extraction, Quickblade Of Trembling Hands</th>\n",
       "      <td>9</td>\n",
       "      <td>$3.53</td>\n",
       "      <td>$31.77</td>\n",
       "    </tr>\n",
       "  </tbody>\n",
       "</table>\n",
       "</div>"
      ],
      "text/plain": [
       "                                                      Purchase Count  \\\n",
       "Item ID Item Name                                                      \n",
       "92      Final Critic                                              13   \n",
       "178     Oathbreaker, Last Hope of the Breaking Storm              12   \n",
       "145     Fiery Glass Crusader                                       9   \n",
       "132     Persuasion                                                 9   \n",
       "108     Extraction, Quickblade Of Trembling Hands                  9   \n",
       "\n",
       "                                                     Item Price  \\\n",
       "Item ID Item Name                                                 \n",
       "92      Final Critic                                      $4.61   \n",
       "178     Oathbreaker, Last Hope of the Breaking Storm      $4.23   \n",
       "145     Fiery Glass Crusader                              $4.58   \n",
       "132     Persuasion                                        $3.22   \n",
       "108     Extraction, Quickblade Of Trembling Hands         $3.53   \n",
       "\n",
       "                                                     Total Purchase Value  \n",
       "Item ID Item Name                                                          \n",
       "92      Final Critic                                               $59.99  \n",
       "178     Oathbreaker, Last Hope of the Breaking Storm               $50.76  \n",
       "145     Fiery Glass Crusader                                       $41.22  \n",
       "132     Persuasion                                                 $28.99  \n",
       "108     Extraction, Quickblade Of Trembling Hands                  $31.77  "
      ]
     },
     "execution_count": 203,
     "metadata": {},
     "output_type": "execute_result"
    }
   ],
   "source": [
    "most_pop_items_df.head()"
   ]
  },
  {
   "cell_type": "markdown",
   "metadata": {},
   "source": [
    "<a name=\"Most-Profitable-Item\"></a>"
   ]
  },
  {
   "cell_type": "markdown",
   "metadata": {},
   "source": [
    "## **Most Profitable Items**"
   ]
  },
  {
   "cell_type": "markdown",
   "metadata": {},
   "source": [
    "* Sort the above table by total purchase value in descending order\n",
    "\n",
    "\n",
    "* Give the displayed data cleaner formatting\n",
    "\n",
    "\n",
    "* Display a preview of the data frame\n",
    "\n"
   ]
  },
  {
   "cell_type": "code",
   "execution_count": 204,
   "metadata": {},
   "outputs": [],
   "source": [
    "#Style Average Purchase Price and Total Purchase Value as currency with two decimals\n",
    "most_profit_items_df[\"Item Price\"] = most_profit_items_df[\"Item Price\"].map(\"${:.2f}\".format)\n",
    "most_profit_items_df[\"Total Purchase Value\"] = most_profit_items_df[\"Total Purchase Value\"].map(\"${:.2f}\".format)"
   ]
  },
  {
   "cell_type": "markdown",
   "metadata": {},
   "source": [
    "### Answer"
   ]
  },
  {
   "cell_type": "code",
   "execution_count": 205,
   "metadata": {},
   "outputs": [
    {
     "data": {
      "text/html": [
       "<div>\n",
       "<style scoped>\n",
       "    .dataframe tbody tr th:only-of-type {\n",
       "        vertical-align: middle;\n",
       "    }\n",
       "\n",
       "    .dataframe tbody tr th {\n",
       "        vertical-align: top;\n",
       "    }\n",
       "\n",
       "    .dataframe thead th {\n",
       "        text-align: right;\n",
       "    }\n",
       "</style>\n",
       "<table border=\"1\" class=\"dataframe\">\n",
       "  <thead>\n",
       "    <tr style=\"text-align: right;\">\n",
       "      <th></th>\n",
       "      <th></th>\n",
       "      <th>Purchase Count</th>\n",
       "      <th>Item Price</th>\n",
       "      <th>Total Purchase Value</th>\n",
       "    </tr>\n",
       "    <tr>\n",
       "      <th>Item ID</th>\n",
       "      <th>Item Name</th>\n",
       "      <th></th>\n",
       "      <th></th>\n",
       "      <th></th>\n",
       "    </tr>\n",
       "  </thead>\n",
       "  <tbody>\n",
       "    <tr>\n",
       "      <th>92</th>\n",
       "      <th>Final Critic</th>\n",
       "      <td>13</td>\n",
       "      <td>$4.61</td>\n",
       "      <td>$59.99</td>\n",
       "    </tr>\n",
       "    <tr>\n",
       "      <th>178</th>\n",
       "      <th>Oathbreaker, Last Hope of the Breaking Storm</th>\n",
       "      <td>12</td>\n",
       "      <td>$4.23</td>\n",
       "      <td>$50.76</td>\n",
       "    </tr>\n",
       "    <tr>\n",
       "      <th>82</th>\n",
       "      <th>Nirvana</th>\n",
       "      <td>9</td>\n",
       "      <td>$4.90</td>\n",
       "      <td>$44.10</td>\n",
       "    </tr>\n",
       "    <tr>\n",
       "      <th>145</th>\n",
       "      <th>Fiery Glass Crusader</th>\n",
       "      <td>9</td>\n",
       "      <td>$4.58</td>\n",
       "      <td>$41.22</td>\n",
       "    </tr>\n",
       "    <tr>\n",
       "      <th>103</th>\n",
       "      <th>Singed Scalpel</th>\n",
       "      <td>8</td>\n",
       "      <td>$4.35</td>\n",
       "      <td>$34.80</td>\n",
       "    </tr>\n",
       "  </tbody>\n",
       "</table>\n",
       "</div>"
      ],
      "text/plain": [
       "                                                      Purchase Count  \\\n",
       "Item ID Item Name                                                      \n",
       "92      Final Critic                                              13   \n",
       "178     Oathbreaker, Last Hope of the Breaking Storm              12   \n",
       "82      Nirvana                                                    9   \n",
       "145     Fiery Glass Crusader                                       9   \n",
       "103     Singed Scalpel                                             8   \n",
       "\n",
       "                                                     Item Price  \\\n",
       "Item ID Item Name                                                 \n",
       "92      Final Critic                                      $4.61   \n",
       "178     Oathbreaker, Last Hope of the Breaking Storm      $4.23   \n",
       "82      Nirvana                                           $4.90   \n",
       "145     Fiery Glass Crusader                              $4.58   \n",
       "103     Singed Scalpel                                    $4.35   \n",
       "\n",
       "                                                     Total Purchase Value  \n",
       "Item ID Item Name                                                          \n",
       "92      Final Critic                                               $59.99  \n",
       "178     Oathbreaker, Last Hope of the Breaking Storm               $50.76  \n",
       "82      Nirvana                                                    $44.10  \n",
       "145     Fiery Glass Crusader                                       $41.22  \n",
       "103     Singed Scalpel                                             $34.80  "
      ]
     },
     "execution_count": 205,
     "metadata": {},
     "output_type": "execute_result"
    }
   ],
   "source": [
    "most_profit_items_df.head()"
   ]
  }
 ],
 "metadata": {
  "anaconda-cloud": {},
  "kernel_info": {
   "name": "python3"
  },
  "kernelspec": {
   "display_name": "Python 3",
   "language": "python",
   "name": "python3"
  },
  "language_info": {
   "codemirror_mode": {
    "name": "ipython",
    "version": 3
   },
   "file_extension": ".py",
   "mimetype": "text/x-python",
   "name": "python",
   "nbconvert_exporter": "python",
   "pygments_lexer": "ipython3",
   "version": "3.7.7"
  },
  "latex_envs": {
   "LaTeX_envs_menu_present": true,
   "autoclose": false,
   "autocomplete": true,
   "bibliofile": "biblio.bib",
   "cite_by": "apalike",
   "current_citInitial": 1,
   "eqLabelWithNumbers": true,
   "eqNumInitial": 1,
   "hotkeys": {
    "equation": "Ctrl-E",
    "itemize": "Ctrl-I"
   },
   "labels_anchors": false,
   "latex_user_defs": false,
   "report_style_numbering": false,
   "user_envs_cfg": false
  },
  "nteract": {
   "version": "0.2.0"
  },
  "toc-autonumbering": false,
  "toc-showcode": false,
  "toc-showmarkdowntxt": false,
  "toc-showtags": false
 },
 "nbformat": 4,
 "nbformat_minor": 4
}
